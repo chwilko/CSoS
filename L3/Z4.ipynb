{
 "cells": [
  {
   "cell_type": "markdown",
   "metadata": {},
   "source": [
    "# Task 4\n"
   ]
  },
  {
   "cell_type": "code",
   "execution_count": null,
   "metadata": {},
   "outputs": [],
   "source": [
    "using DataFrames, GLM, StatsBase\n",
    "using Plots\n",
    "using StatsPlots\n",
    "include(\"MBP.jl\")\n",
    "include(\"alphastable.jl\")"
   ]
  },
  {
   "cell_type": "code",
   "execution_count": null,
   "metadata": {},
   "outputs": [],
   "source": [
    "global Alpha;\n",
    "Alpha = [1.5, 0.75];\n",
    "beta = 0;\n",
    "global Gam;\n",
    "Gam = [1, 1];\n",
    "delta = 0;\n",
    "N = 10 ^ 3;\n",
    "MC = 10 ^ 5;\n",
    "perc = 0.9;"
   ]
  },
  {
   "cell_type": "code",
   "execution_count": null,
   "metadata": {},
   "outputs": [],
   "source": [
    "function get_alpha(alpha, beta, gam, delta, N, perc)\n",
    "    X = alphastable(N, 1, alpha, beta, gam, delta, 1);\n",
    "    cde_fun = ecdf(vec(X));\n",
    "    X_cut = sort(vec(X))[Int(perc * N):end - 1];\n",
    "    Y = log.(1 .- cde_fun(X_cut));\n",
    "    X = [log.(X_cut) ones(length(X_cut), 1)];\n",
    "    est = ((X' * X) ^ (-1) * X' * Y)[1];\n",
    "    return -est\n",
    "end"
   ]
  },
  {
   "cell_type": "code",
   "execution_count": null,
   "metadata": {},
   "outputs": [],
   "source": [
    "\n",
    "global Est_matrice;\n",
    "Est_matrice = ones(MC, length(Alpha)) * -999;\n",
    "\n",
    "for i in range(1, MC)\n",
    "    for j in range(1, length(Alpha))\n",
    "        alpha = Alpha[j];\n",
    "        gam = Gam[j];\n",
    "        Est_matrice[i, j] = get_alpha(alpha, beta, gam, delta, N, perc)\n",
    "    end\n",
    "end"
   ]
  },
  {
   "cell_type": "code",
   "execution_count": null,
   "metadata": {},
   "outputs": [],
   "source": [
    "p3 = histogram(Est_matrice[:, 1])\n",
    "vline!([1.5])\n",
    "p4 = histogram(Est_matrice[:, 2])\n",
    "vline!([0.75])\n",
    "StatsPlots.plot(p3, p4, layout = (2, 1))"
   ]
  },
  {
   "cell_type": "code",
   "execution_count": null,
   "metadata": {},
   "outputs": [],
   "source": [
    "p3 = StatsPlots.boxplot(Est_matrice[:, 1])\n",
    "hline!([1.5])\n",
    "p4 = StatsPlots.boxplot(Est_matrice[:, 2])\n",
    "hline!([0.75])\n",
    "StatsPlots.plot(p3, p4, layout = (2, 1))"
   ]
  },
  {
   "cell_type": "code",
   "execution_count": null,
   "metadata": {},
   "outputs": [],
   "source": []
  },
  {
   "cell_type": "code",
   "execution_count": null,
   "metadata": {},
   "outputs": [],
   "source": []
  },
  {
   "cell_type": "code",
   "execution_count": null,
   "metadata": {},
   "outputs": [],
   "source": []
  },
  {
   "cell_type": "code",
   "execution_count": null,
   "metadata": {},
   "outputs": [],
   "source": []
  }
 ],
 "metadata": {
  "kernelspec": {
   "display_name": "Julia 1.4.1",
   "language": "julia",
   "name": "julia-1.4"
  },
  "language_info": {
   "file_extension": ".jl",
   "mimetype": "application/julia",
   "name": "julia",
   "version": "1.4.1"
  },
  "orig_nbformat": 4
 },
 "nbformat": 4,
 "nbformat_minor": 2
}
