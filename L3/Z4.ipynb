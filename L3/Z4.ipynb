{
 "cells": [
  {
   "cell_type": "markdown",
   "metadata": {},
   "source": [
    "# Task 4\n"
   ]
  },
  {
   "cell_type": "code",
   "execution_count": 15,
   "metadata": {},
   "outputs": [
    {
     "data": {
      "text/plain": [
       "alphastable (generic function with 1 method)"
      ]
     },
     "metadata": {},
     "output_type": "display_data"
    }
   ],
   "source": [
    "using DataFrames, GLM, StatsBase\n",
    "include(\"MBP.jl\")\n",
    "include(\"alphastable.jl\")"
   ]
  },
  {
   "cell_type": "code",
   "execution_count": 16,
   "metadata": {},
   "outputs": [],
   "source": [
    "alpha = 1.5;\n",
    "beta = 0;\n",
    "gam = 0;\n",
    "delta = 0;\n",
    "N = 10 ^ 2;\n"
   ]
  },
  {
   "cell_type": "code",
   "execution_count": 23,
   "metadata": {},
   "outputs": [
    {
     "ename": "ErrorException",
     "evalue": "syntax: invalid keyword argument syntax \"weights::AbstractWeights\"",
     "output_type": "error",
     "traceback": [
      "syntax: invalid keyword argument syntax \"weights::AbstractWeights\"\n",
      "\n",
      "Stacktrace:\n",
      " [1] top-level scope at /home/chwilko/Documents/studia/pwr/semestr8/CSoS/L3/Z4.ipynb:4\n",
      " [2] include_string(::Module, ::String, ::String) at ./loading.jl:1080\n",
      " [3] #invokelatest#1 at ./essentials.jl:712 [inlined]\n",
      " [4] invokelatest at ./essentials.jl:711 [inlined]\n",
      " [5] (::VSCodeServer.var\"#146#147\"{VSCodeServer.NotebookRunCellArguments,String})() at /home/chwilko/.vscode/extensions/julialang.language-julia-1.5.11/scripts/packages/VSCodeServer/src/serve_notebook.jl:18\n",
      " [6] withpath(::VSCodeServer.var\"#146#147\"{VSCodeServer.NotebookRunCellArguments,String}, ::String) at /home/chwilko/.vscode/extensions/julialang.language-julia-1.5.11/scripts/packages/VSCodeServer/src/repl.jl:185\n",
      " [7] notebook_runcell_request(::VSCodeServer.JSONRPC.JSONRPCEndpoint{Base.PipeEndpoint,Base.PipeEndpoint}, ::VSCodeServer.NotebookRunCellArguments) at /home/chwilko/.vscode/extensions/julialang.language-julia-1.5.11/scripts/packages/VSCodeServer/src/serve_notebook.jl:14\n",
      " [8] dispatch_msg(::VSCodeServer.JSONRPC.JSONRPCEndpoint{Base.PipeEndpoint,Base.PipeEndpoint}, ::VSCodeServer.JSONRPC.MsgDispatcher, ::Dict{String,Any}) at /home/chwilko/.vscode/extensions/julialang.language-julia-1.5.11/scripts/packages/JSONRPC/src/typed.jl:67\n",
      " [9] serve_notebook(::String; crashreporting_pipename::String) at /home/chwilko/.vscode/extensions/julialang.language-julia-1.5.11/scripts/packages/VSCodeServer/src/serve_notebook.jl:94\n",
      " [10] top-level scope at /home/chwilko/.vscode/extensions/julialang.language-julia-1.5.11/scripts/notebook/notebook.jl:12\n",
      " [11] include(::Module, ::String) at ./Base.jl:377\n",
      " [12] exec_options(::Base.JLOptions) at ./client.jl:288\n",
      " [13] _start() at ./client.jl:484"
     ]
    }
   ],
   "source": [
    "X = alphastable(N, 1, alpha, beta, gam, delta, 1);\n",
    "t = -20:0.1:20;\n",
    "n = length(t);\n",
    "cde_fun = ecdf(X);\n",
    "\n",
    "# Y = log(1 .- CDE_X);\n",
    "# X = log(t);\n",
    "# Y = Y[floor(0.9 * n):end];\n",
    "# X = X[floor(0.9 * n):end];\n",
    "\n",
    "ecdf"
   ]
  },
  {
   "cell_type": "code",
   "execution_count": null,
   "metadata": {},
   "outputs": [],
   "source": []
  }
 ],
 "metadata": {
  "kernelspec": {
   "display_name": "Julia 1.4.1",
   "language": "julia",
   "name": "julia-1.4"
  },
  "language_info": {
   "file_extension": ".jl",
   "mimetype": "application/julia",
   "name": "julia",
   "version": "1.4.1"
  },
  "orig_nbformat": 4
 },
 "nbformat": 4,
 "nbformat_minor": 2
}
