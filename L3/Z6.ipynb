{
 "cells": [
  {
   "cell_type": "code",
   "execution_count": null,
   "metadata": {},
   "outputs": [],
   "source": [
    "using Plots\n",
    "using LaTeXStrings\n",
    "using Distributions"
   ]
  },
  {
   "cell_type": "code",
   "execution_count": 1,
   "metadata": {},
   "outputs": [
    {
     "data": {
      "text/plain": [
       "alphastable (generic function with 1 method)"
      ]
     },
     "metadata": {},
     "output_type": "display_data"
    }
   ],
   "source": [
    "\n",
    "\n",
    "include(\"MBP.jl\")\n",
    "include(\"alphastable.jl\")"
   ]
  },
  {
   "cell_type": "code",
   "execution_count": 2,
   "metadata": {},
   "outputs": [],
   "source": [
    "global Alpha;\n",
    "Alpha = [1.5, 0.75];\n",
    "beta = 0;\n",
    "global Gam;\n",
    "Gam = [1, 1];\n",
    "delta = 0;\n",
    "N = 10 ^ 3;\n",
    "MC = 10 ^ 5;\n",
    "perc = 0.9;"
   ]
  },
  {
   "cell_type": "code",
   "execution_count": 1,
   "metadata": {},
   "outputs": [
    {
     "data": {
      "text/plain": [
       "get_alpha_gamma (generic function with 1 method)"
      ]
     },
     "metadata": {},
     "output_type": "display_data"
    }
   ],
   "source": [
    "#https://julia.quantecon.org/more_julia/optimization_solver_packages.html\n"
   ]
  },
  {
   "cell_type": "code",
   "execution_count": 2,
   "metadata": {},
   "outputs": [
    {
     "data": {
      "text/plain": [
       "get_parms_alpha_stable (generic function with 1 method)"
      ]
     },
     "metadata": {},
     "output_type": "display_data"
    }
   ],
   "source": [
    "function get_parms_alpha_stable(X, K)\n",
    "    t = pi * 1:K ./ 25;\n",
    "    #\n",
    "    CharFun = characterist_r_i(t, X, length(X));\n",
    "    Y = log.(-log.(sum(Char .^ 2, dims = 1)));\n",
    "    X = log.(t);\n",
    "    est = ((X' * X) ^ (-1) * X' * Y);\n",
    "    res = [0 0];\n",
    "    alpha = est[1];\n",
    "    gam = exp.((est[2] - log(2)) / est[1]);\n",
    "    #\n",
    "    Y = atan.(CharFun[:,1] ./ CharFun[:,2]);\n",
    "    if abs(1 - alpha) < 0.1  # warunek do przemyślenia\n",
    "        alpha\n",
    "    else\n",
    "        X = gam ^ alpha * u .^ alpha .* tan(pi * alpha / 2)\n",
    "    end\n",
    "end"
   ]
  }
 ],
 "metadata": {
  "kernelspec": {
   "display_name": "Julia 1.4.1",
   "language": "julia",
   "name": "julia-1.4"
  },
  "language_info": {
   "file_extension": ".jl",
   "mimetype": "application/julia",
   "name": "julia",
   "version": "1.4.1"
  },
  "orig_nbformat": 4
 },
 "nbformat": 4,
 "nbformat_minor": 2
}
