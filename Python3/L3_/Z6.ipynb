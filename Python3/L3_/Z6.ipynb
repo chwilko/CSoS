{
 "cells": [
  {
   "cell_type": "code",
   "execution_count": null,
   "metadata": {},
   "outputs": [],
   "source": [
    "using Plots\n",
    "using LaTeXStrings\n",
    "using Distributions\n",
    "using Optim"
   ]
  },
  {
   "cell_type": "code",
   "execution_count": null,
   "metadata": {},
   "outputs": [],
   "source": [
    "include(\"MBP.jl\")\n",
    "include(\"alphastable.jl\")"
   ]
  },
  {
   "cell_type": "code",
   "execution_count": null,
   "metadata": {},
   "outputs": [],
   "source": [
    "Alpha = [1.5, 0.75];\n",
    "beta = 0;\n",
    "Gam = [1, 1];\n",
    "delta = 0;\n",
    "N = 10 ^ 5;\n",
    "MC = 10 ^ 5;\n",
    "alpha = Alpha[1];\n",
    "gam = Gam[1];"
   ]
  },
  {
   "cell_type": "code",
   "execution_count": null,
   "metadata": {},
   "outputs": [],
   "source": [
    "#https://julia.quantecon.org/more_julia/optimization_solver_packages.html\n"
   ]
  },
  {
   "cell_type": "code",
   "execution_count": null,
   "metadata": {},
   "outputs": [],
   "source": [
    "\n",
    "function get_parms_alpha_stable(X, K)\n",
    "    t = 1:K;\n",
    "    t = pi * t ./ 25;\n",
    "    print(size(t))\n",
    "    CharFun = characterist_r_i(t, X, length(X));\n",
    "    Y = log.(-log.(sum(CharFun .^ 2, dims = 1)));\n",
    "    X = log.(t);\n",
    "    est = ((X' * X) ^ (-1) * X' * Y);\n",
    "    alpha = est[1];\n",
    "    gam = exp.((est[2] - log(2)) / est[1]);\n",
    "    Y = atan.(CharFun[:,1] ./ CharFun[:,2]);\n",
    "    if abs(1 - alpha) == 0  # warunek do przemyślenia\n",
    "        return 1;\n",
    "    else\n",
    "        f(x) = sum(abs.((gam ^ alpha) * x[1] * t .^ alpha .* tan(pi * alpha / 2) .+ t * x[2] .- atan.(CharFun[:,1] ./ CharFun[:,2])));\n",
    "    end\n",
    "\n",
    "    results = optimize(f, [0.1, 0.1]);\n",
    "\n",
    "    # return results;\n",
    "    beta = results.minimizer[1];\n",
    "    gam = results.minimizer[2];\n",
    "    res = [alpha, beta, gam, delta];\n",
    "    return res;\n",
    "end"
   ]
  },
  {
   "cell_type": "code",
   "execution_count": null,
   "metadata": {},
   "outputs": [],
   "source": [
    "X = alphastable(N, 1, alpha, beta, gam, delta, 1);\n",
    "ret = get_parms_alpha_stable(X, 100);\n",
    "print(ret)\n",
    "\n"
   ]
  },
  {
   "cell_type": "code",
   "execution_count": null,
   "metadata": {},
   "outputs": [],
   "source": [
    "global Kt\n",
    "Kt = 9:134;\n",
    "global K\n",
    "K = Kt[1]\n",
    "print(K)\n",
    "print(\"\\n\")\n",
    "\n",
    "X = alphastable(N, 1, alpha, beta, gam, delta, 1);\n",
    "print(size((1:length(Kt))), \"\\n\")\n",
    "print(size(X), \"\\n\")\n",
    "Kvalue = ones(length(Kt), 4);\n",
    "ret = get_parms_alpha_stable(X, 79);\n",
    "# Kval = get_parms_alpha_stable(X, );\n",
    "# for i = (1:length(Kt))\n",
    "#     K = Kt[i];\n",
    "#     print(K)\n",
    "#     print(\"\\n\")\n",
    "#     Kval = get_parms_alpha_stable(X, K);\n",
    "#     # X_ = alphastable(N, 1, Kval[1], Kval[2], Kval[3], Kval[4], 1);\n",
    "#     # Kval ./= get_parms_alpha_stable(X_, K);\n",
    "#     # Kvalue[i,:] = Kval\n",
    "# end"
   ]
  },
  {
   "cell_type": "code",
   "execution_count": null,
   "metadata": {},
   "outputs": [],
   "source": []
  }
 ],
 "metadata": {
  "kernelspec": {
   "display_name": "Julia 1.4.1",
   "language": "julia",
   "name": "julia-1.4"
  },
  "language_info": {
   "file_extension": ".jl",
   "mimetype": "application/julia",
   "name": "julia",
   "version": "1.4.1"
  },
  "orig_nbformat": 4
 },
 "nbformat": 4,
 "nbformat_minor": 2
}
