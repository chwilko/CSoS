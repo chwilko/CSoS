{
 "cells": [
  {
   "cell_type": "markdown",
   "metadata": {},
   "source": [
    "# Task 5"
   ]
  },
  {
   "cell_type": "code",
   "execution_count": null,
   "metadata": {},
   "outputs": [],
   "source": [
    "using DataFrames, GLM, StatsBase\n",
    "using Plots\n",
    "using StatsPlots\n",
    "include(\"MBP.jl\")\n",
    "include(\"alphastable.jl\")"
   ]
  },
  {
   "cell_type": "code",
   "execution_count": null,
   "metadata": {},
   "outputs": [],
   "source": [
    "Alpha = [1.5, 0.75];\n",
    "beta = 0;\n",
    "Gam = [1 2];\n",
    "delta = 0;\n",
    "N = 10 ^ 3;\n",
    "MC = 10 ^ 3;\n",
    "len = 10 ^ 4;\n",
    "t = range(0.01, 3, length=len);"
   ]
  },
  {
   "cell_type": "markdown",
   "metadata": {},
   "source": [
    "## Showing the estimator of $\\varphi$"
   ]
  },
  {
   "cell_type": "code",
   "execution_count": null,
   "metadata": {},
   "outputs": [],
   "source": [
    "alp = Alpha[1];\n",
    "gam = Gam[1];\n",
    "X = alphastable(N, 1, alp, beta, gam, delta, 1);\n",
    "Re_char_X = characterist_r_i(t, X, N)[:, 1];\n",
    "p1 = plot(t, Re_char_X);\n",
    "p2 = plot(log.(t), log.(-log.(abs.(Re_char_X))));\n",
    "plot(p1, p2)"
   ]
  },
  {
   "cell_type": "code",
   "execution_count": null,
   "metadata": {},
   "outputs": [],
   "source": [
    "function get_alpha(alp, beta, gam, delta, N, t, MC)\n",
    "    X = alphastable(N, 1, alp, beta, gam, delta, 1);\n",
    "    Re_char_X = characterist_r_i(t, X, N)[:, 1];\n",
    "    Y = log.(-log.(abs.(Re_char_X)))\n",
    "    X = [log.(t) ones(length(Y), 1)];\n",
    "    est = ((X' * X) ^ (-1) * X' * Y)[1]\n",
    "    return est\n",
    "end"
   ]
  },
  {
   "cell_type": "code",
   "execution_count": null,
   "metadata": {},
   "outputs": [],
   "source": [
    "Est_matrice = ones(MC, length(Alpha)) * -999;\n",
    "\n",
    "for i in range(1, MC)\n",
    "    for j in range(1, length(Alpha))\n",
    "        alp = Alpha[j];\n",
    "        gam = Gam[j];\n",
    "        Est_matrice[i, j] = get_alpha(alp, beta, gam, delta, N, t, MC)\n",
    "    end\n",
    "end"
   ]
  },
  {
   "cell_type": "code",
   "execution_count": null,
   "metadata": {},
   "outputs": [],
   "source": [
    "p3 = histogram(Est_matrice[:, 1])\n",
    "vline!([1.5])\n",
    "p4 = histogram(Est_matrice[:, 2])\n",
    "vline!([0.75])\n",
    "StatsPlots.plot(p3, p4, layout = (2, 1))"
   ]
  },
  {
   "cell_type": "code",
   "execution_count": null,
   "metadata": {},
   "outputs": [],
   "source": [
    "p3 = StatsPlots.boxplot(Est_matrice[:, 1])\n",
    "hline!([1.5])\n",
    "p4 = StatsPlots.boxplot(Est_matrice[:, 2])\n",
    "hline!([0.75])\n",
    "StatsPlots.plot(p3, p4, layout = (2, 1))"
   ]
  },
  {
   "cell_type": "code",
   "execution_count": null,
   "metadata": {},
   "outputs": [],
   "source": []
  }
 ],
 "metadata": {
  "kernelspec": {
   "display_name": "Julia 1.7.2",
   "language": "julia",
   "name": "julia-1.7"
  },
  "language_info": {
   "file_extension": ".jl",
   "mimetype": "application/julia",
   "name": "julia",
   "version": "1.7.2"
  },
  "orig_nbformat": 4
 },
 "nbformat": 4,
 "nbformat_minor": 2
}
