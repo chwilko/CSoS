{
 "cells": [
  {
   "cell_type": "code",
   "execution_count": null,
   "metadata": {},
   "outputs": [],
   "source": [
    "using Plots # mega długo się ładuje \n",
    "using LaTeXStrings\n",
    "using Distributions"
   ]
  },
  {
   "cell_type": "code",
   "execution_count": null,
   "metadata": {},
   "outputs": [],
   "source": [
    "include(\"MBP.jl\")\n",
    "include(\"alphastable.jl\")"
   ]
  },
  {
   "cell_type": "markdown",
   "metadata": {},
   "source": [
    "## Normal"
   ]
  },
  {
   "cell_type": "code",
   "execution_count": null,
   "metadata": {},
   "outputs": [],
   "source": [
    "alpha = 2;\n",
    "beta = 0;\n",
    "mu = 0; # gaussian parameter\n",
    "delta = mu;\n",
    "sigma = 1; # gaussian parameter\n",
    "gamma = (1 / sqrt(2)) * sigma;\n",
    "my_dist = Normal(mu, sigma);"
   ]
  },
  {
   "cell_type": "code",
   "execution_count": null,
   "metadata": {},
   "outputs": [],
   "source": [
    "MC = 1000000;\n",
    "t = -5:0.1:5;\n",
    "t2 = -5:1:5;\n",
    "xlim = [-5 5]\n",
    "ylim = [0 0.3]\n",
    "\n",
    "X = alphastable(MC, 1, alpha, beta, gamma, delta, 1);\n",
    "PDF_X = PDF(t2, vec(X), MC);\n",
    "CDF_X = CDF(t, vec(X), MC);"
   ]
  },
  {
   "cell_type": "markdown",
   "metadata": {},
   "source": [
    "## CDF"
   ]
  },
  {
   "cell_type": "code",
   "execution_count": null,
   "metadata": {},
   "outputs": [],
   "source": [
    "plot(t, CDF_X, lw = 5, legend = false, reuse = false)\n",
    "plot!(t -> cdf(my_dist, t), t[1], t[end], xlim = xlim, ylim = ylim, lw = 3, legend = false)"
   ]
  },
  {
   "cell_type": "markdown",
   "metadata": {},
   "source": [
    "## PDF"
   ]
  },
  {
   "cell_type": "code",
   "execution_count": null,
   "metadata": {},
   "outputs": [],
   "source": [
    "histogram(X, normalize = true, legend = false, reuse = false)\n",
    "plot!(t -> pdf(my_dist, t), t[1], t[end], xlim = xlim, ylim = ylim, lw = 3, legend = false)\n",
    "plot!(t2[1:end - 1], PDF_X, xlim = xlim, ylim = ylim, lw = 3, legend = false)"
   ]
  },
  {
   "cell_type": "markdown",
   "metadata": {},
   "source": [
    "# Cauchy"
   ]
  },
  {
   "cell_type": "code",
   "execution_count": null,
   "metadata": {},
   "outputs": [],
   "source": [
    "alpha = 1;\n",
    "beta = 0;\n",
    "gamma = 1;\n",
    "delta = 0;\n",
    "my_dist = Cauchy(delta, gamma);"
   ]
  },
  {
   "cell_type": "code",
   "execution_count": null,
   "metadata": {},
   "outputs": [],
   "source": [
    "MC = 100000; # perhaps the histogram ~= 0 is the fault of relatively low number of MC steps?\n",
    "t = -20:0.1:20;\n",
    "t2 = -20:20;\n",
    "xlim = [t[1] t[end]]\n",
    "ylim = [0 0.3]\n",
    "X = alphastable(MC, 1, alpha, beta, gamma, delta, 1);\n",
    "PDF_X = PDF(t2, X, MC);\n",
    "CDF_X = CDF(t, X, MC);"
   ]
  },
  {
   "cell_type": "markdown",
   "metadata": {},
   "source": [
    "## CDF\n"
   ]
  },
  {
   "cell_type": "code",
   "execution_count": null,
   "metadata": {},
   "outputs": [],
   "source": [
    "plot(t, CDF_X, lw = 5, legend = false, reuse = false)\n",
    "plot!(t -> cdf(my_dist, t), t[1], t[end], xlim = xlim, ylim = ylim, lw = 3, legend = false)"
   ]
  },
  {
   "cell_type": "markdown",
   "metadata": {},
   "source": [
    "## PDF"
   ]
  },
  {
   "cell_type": "code",
   "execution_count": null,
   "metadata": {},
   "outputs": [],
   "source": [
    "plot(t -> pdf(my_dist, t), t[1], t[end], xlim = xlim, ylim = ylim, lw = 3, legend = false)\n",
    "plot!(t2[1:end-1], PDF_X, xlim = xlim, ylim = ylim, lw = 3, legend = false)\n",
    "# histogram!(X, normalize = true, legend = false, bin = 1000, xlim = (-10, 10))"
   ]
  },
  {
   "cell_type": "markdown",
   "metadata": {},
   "source": [
    "# Levy"
   ]
  },
  {
   "cell_type": "code",
   "execution_count": null,
   "metadata": {},
   "outputs": [],
   "source": [
    "alpha = 1 / 2;\n",
    "beta = 1;\n",
    "gamma = 1;\n",
    "delta = 2;\n",
    "my_dist = Levy(delta, gamma);"
   ]
  },
  {
   "cell_type": "code",
   "execution_count": null,
   "metadata": {},
   "outputs": [],
   "source": [
    "MC = 1000000; # perhaps the histogram ~= 0 is the fault of relatively low number of MC steps?\n",
    "t = delta:0.1:20;\n",
    "t2 = delta:20;\n",
    "xlim = [t[1] t[end]]\n",
    "ylim = [0 0.3]\n",
    "\n",
    "X = alphastable(MC, 1, alpha, beta, gamma, delta, 1);\n",
    "PDF_X = PDF(t2, vec(X), MC);\n",
    "CDF_X = CDF(t, vec(X), MC);"
   ]
  },
  {
   "cell_type": "markdown",
   "metadata": {},
   "source": [
    "# CDF"
   ]
  },
  {
   "cell_type": "code",
   "execution_count": null,
   "metadata": {},
   "outputs": [],
   "source": [
    "plot(t, CDF_X, lw = 5, legend = false, reuse = false)\n",
    "plot!(t -> cdf(my_dist, t), t[1], t[end], xlim = xlim, ylim = ylim, lw = 3, legend = false)"
   ]
  },
  {
   "cell_type": "markdown",
   "metadata": {},
   "source": [
    "## PDF"
   ]
  },
  {
   "cell_type": "code",
   "execution_count": null,
   "metadata": {},
   "outputs": [],
   "source": [
    "plot(t -> pdf(my_dist, t), t[1], t[end], xlim = xlim, ylim = ylim, lw = 3, legend = false)\n",
    "plot!(t2[1:end - 1], PDF_X, xlim = xlim, ylim = ylim, lw = 3, legend = false)\n",
    "# histogram!(X, normalize = true, legend = false, bin = 1000, xlim = (-10, 10))\n"
   ]
  }
 ],
 "metadata": {
  "kernelspec": {
   "display_name": "Julia 1.4.1",
   "language": "julia",
   "name": "julia-1.4"
  },
  "language_info": {
   "file_extension": ".jl",
   "mimetype": "application/julia",
   "name": "julia",
   "version": "1.4.1"
  },
  "orig_nbformat": 4
 },
 "nbformat": 4,
 "nbformat_minor": 2
}
