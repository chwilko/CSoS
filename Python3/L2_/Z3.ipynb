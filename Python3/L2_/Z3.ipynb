{
 "cells": [
  {
   "cell_type": "code",
   "execution_count": null,
   "metadata": {},
   "outputs": [],
   "source": [
    "using Plots # mega długo się ładuje \n",
    "using LaTeXStrings\n",
    "using Distributions"
   ]
  },
  {
   "cell_type": "code",
   "execution_count": null,
   "metadata": {},
   "outputs": [],
   "source": [
    "include(\"MBP.jl\")\n",
    "include(\"alphastable.jl\")"
   ]
  },
  {
   "cell_type": "code",
   "execution_count": null,
   "metadata": {},
   "outputs": [],
   "source": [
    "MC = 1000000;\n",
    "t = -5:0.1:5;\n",
    "alpha = 1.8\n",
    "gamma = 1\n",
    "xlim = [-5 5]\n",
    "ylim = [0 0.3]\n",
    "\n",
    "\n",
    "\n",
    "X = alphastable(MC, 1, alpha, 0, gamma, 0, 1);\n",
    "phi = characterist_r_i(t, X, MC);\n",
    "plot(t, phi[:, 1], xlim = xlim, ylim = ylim, lw = 5, legend = false, reuse = false)\n",
    "plot!(t, exp.(-gamma.^(alpha) * (abs.(t)) .^ alpha), xlim = xlim, ylim = ylim, lw = 3, legend = false)\n"
   ]
  },
  {
   "cell_type": "code",
   "execution_count": null,
   "metadata": {},
   "outputs": [],
   "source": []
  }
 ],
 "metadata": {
  "kernelspec": {
   "display_name": "Julia 1.4.1",
   "language": "julia",
   "name": "julia-1.4"
  },
  "language_info": {
   "file_extension": ".jl",
   "mimetype": "application/julia",
   "name": "julia",
   "version": "1.4.1"
  },
  "orig_nbformat": 4
 },
 "nbformat": 4,
 "nbformat_minor": 2
}
