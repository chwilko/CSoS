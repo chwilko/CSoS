{
 "cells": [
  {
   "cell_type": "code",
   "execution_count": 1,
   "metadata": {},
   "outputs": [],
   "source": [
    "import numpy as np\n",
    "sys.path.insert(1, os.sep.join([\"..\", \"packages\"]))\n",
    "from Levy_processes import *\n",
    "from basicDistributionFunctions import equantile\n"
   ]
  },
  {
   "cell_type": "code",
   "execution_count": 2,
   "metadata": {},
   "outputs": [],
   "source": [
    "figsize = 10"
   ]
  },
  {
   "cell_type": "code",
   "execution_count": null,
   "metadata": {},
   "outputs": [],
   "source": [
    "Alphas = [0.25, 0.5, 1, 1.5]\n",
    "Betas = [-0.5, 0, 0.5]\n",
    "Alphas = [1.5]\n",
    "Betas = [0]\n",
    "T = 1\n",
    "M = 10 ** 3\n",
    "N = 100\n",
    "t = np.linspace(0, 1, M)\n",
    "\n",
    "fig, axs = plt.subplots(nrows = len(Alphas), ncols = len(Betas), figsize = (2 * Image_width, 1.5 * Image_width))\n",
    "for i, alpha in enumerate(Alphas):\n",
    "    for j, beta in enumerate(Betas):\n",
    "        Quantile = np.zeros(N, M)\n",
    "        X = Levy_prcesses(T, M, N, alpha, beta)\n",
    "\n",
    "        for k in range(N):\n",
    "            equantile_list(X[k,:])\n",
    "            \n",
    "        ax = axs[i, j]\n",
    "        ax.plot(t, X)\n",
    "        ax.set_title(f\"Alpha = {alpha}, Beta = {beta}\")\n",
    "\n",
    "\n",
    "        ax = axs[i, j]\n",
    "        ax.plot(t, X)\n",
    "        ax.set_title(f\"Alpha = {alpha}, Beta = {beta}\")\n",
    "\n"
   ]
  }
 ],
 "metadata": {
  "interpreter": {
   "hash": "916dbcbb3f70747c44a77c7bcd40155683ae19c65e1c03b4aa3499c5328201f1"
  },
  "kernelspec": {
   "display_name": "Python 3.8.10 64-bit",
   "language": "python",
   "name": "python3"
  },
  "language_info": {
   "codemirror_mode": {
    "name": "ipython",
    "version": 3
   },
   "file_extension": ".py",
   "mimetype": "text/x-python",
   "name": "python",
   "nbconvert_exporter": "python",
   "pygments_lexer": "ipython3",
   "version": "3.8.10"
  },
  "orig_nbformat": 4
 },
 "nbformat": 4,
 "nbformat_minor": 2
}
