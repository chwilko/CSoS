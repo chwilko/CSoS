{
 "cells": [
  {
   "cell_type": "code",
   "execution_count": 1,
   "metadata": {},
   "outputs": [],
   "source": [
    "import sys\n",
    "import os\n",
    "import numpy as np\n",
    "\n",
    "sys.path.insert(1, os.sep.join([\"..\", \"packages\"]))\n",
    "from multivare import MN_distribution\n",
    "from basicDistributionFunctions import tau\n"
   ]
  },
  {
   "cell_type": "code",
   "execution_count": 15,
   "metadata": {},
   "outputs": [
    {
     "name": "stdout",
     "output_type": "stream",
     "text": [
      "10000\n",
      "[0.5147395301320865, 0.0008370848378408853]\n"
     ]
    }
   ],
   "source": [
    "MC = 10 ** 4\n",
    "\n",
    "mu = [1, 0]\n",
    "Sigma = [[1,0.5], [0.5, 1]]\n",
    "\n",
    "MN = MN_distribution(MC, mu, Sigma)\n",
    "print(len(MN[:,1]))\n",
    "print(tau(MN[:,0], MN[:,1]))\n"
   ]
  },
  {
   "cell_type": "markdown",
   "metadata": {},
   "source": [
    "## Task 4\n"
   ]
  },
  {
   "cell_type": "code",
   "execution_count": 19,
   "metadata": {},
   "outputs": [],
   "source": [
    "def foo(MC, mu, Sigma, k):\n",
    "    MN = MN_distribution(MC, mu, Sigma)\n",
    "    if k == 0:\n",
    "        return np.array([tau(MN[:,0], MN[:,1])])\n",
    "    if k == 1:\n",
    "        return np.array([tau(MN[:,1], MN[:,0])])"
   ]
  },
  {
   "cell_type": "code",
   "execution_count": 20,
   "metadata": {},
   "outputs": [],
   "source": [
    "res = []\n",
    "N = 10**3\n",
    "for i in range(N):\n",
    "    res.append(foo(MC, mu, Sigma, 0) - foo(MC, mu, Sigma, 1))\n",
    "\n",
    "\n"
   ]
  },
  {
   "cell_type": "code",
   "execution_count": null,
   "metadata": {},
   "outputs": [],
   "source": []
  }
 ],
 "metadata": {
  "interpreter": {
   "hash": "916dbcbb3f70747c44a77c7bcd40155683ae19c65e1c03b4aa3499c5328201f1"
  },
  "kernelspec": {
   "display_name": "Python 3.8.10 64-bit",
   "language": "python",
   "name": "python3"
  },
  "language_info": {
   "codemirror_mode": {
    "name": "ipython",
    "version": 3
   },
   "file_extension": ".py",
   "mimetype": "text/x-python",
   "name": "python",
   "nbconvert_exporter": "python",
   "pygments_lexer": "ipython3",
   "version": "3.8.10"
  },
  "orig_nbformat": 4
 },
 "nbformat": 4,
 "nbformat_minor": 2
}
