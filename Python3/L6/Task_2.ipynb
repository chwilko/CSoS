{
 "cells": [
  {
   "cell_type": "code",
   "execution_count": 1,
   "metadata": {},
   "outputs": [],
   "source": [
    "import sys\n",
    "import os\n",
    "import numpy as np\n",
    "\n",
    "sys.path.insert(1, os.sep.join([\"..\", \"packages\"]))\n",
    "from alphastable import *\n"
   ]
  },
  {
   "cell_type": "code",
   "execution_count": 3,
   "metadata": {},
   "outputs": [],
   "source": [
    "def MN_distribution(N, mu, sigma):\n",
    "  MN = []\n",
    "  for i in range(N):\n",
    "    d = 2\n",
    "    a = (sigma[0][0])**(1/2)\n",
    "    b = sigma[1][0] / a\n",
    "    c = (sigma[1][1] - b ** 2) ** (1/2)\n",
    "    L = np.array([[a, 0], [b, c]])\n",
    "    Z = np.random.normal(0,1,d)\n",
    "    MN.append(L @ Z + mu)\n",
    "    return np.arange(MN)"
   ]
  },
  {
   "cell_type": "code",
   "execution_count": 4,
   "metadata": {},
   "outputs": [
    {
     "ename": "TypeError",
     "evalue": "unsupported operand type(s) for -: 'list' and 'int'",
     "output_type": "error",
     "traceback": [
      "\u001b[0;31m---------------------------------------------------------------------------\u001b[0m",
      "\u001b[0;31mTypeError\u001b[0m                                 Traceback (most recent call last)",
      "\u001b[1;32m/home/chwilko/Documents/studia/pwr/semestr8/CSoS/Python3/L6/Task_2.ipynb Cell 3'\u001b[0m in \u001b[0;36m<cell line: 6>\u001b[0;34m()\u001b[0m\n\u001b[1;32m      <a href='vscode-notebook-cell:/home/chwilko/Documents/studia/pwr/semestr8/CSoS/Python3/L6/Task_2.ipynb#ch0000002?line=2'>3</a>\u001b[0m mu \u001b[39m=\u001b[39m [\u001b[39m1\u001b[39m, \u001b[39m0\u001b[39m]\n\u001b[1;32m      <a href='vscode-notebook-cell:/home/chwilko/Documents/studia/pwr/semestr8/CSoS/Python3/L6/Task_2.ipynb#ch0000002?line=3'>4</a>\u001b[0m sigma \u001b[39m=\u001b[39m [[\u001b[39m1\u001b[39m,\u001b[39m0.5\u001b[39m], [\u001b[39m0.5\u001b[39m, \u001b[39m4\u001b[39m]]\n\u001b[0;32m----> <a href='vscode-notebook-cell:/home/chwilko/Documents/studia/pwr/semestr8/CSoS/Python3/L6/Task_2.ipynb#ch0000002?line=5'>6</a>\u001b[0m MN \u001b[39m=\u001b[39m MN_distribution(MC, mu, sigma)\n\u001b[1;32m     <a href='vscode-notebook-cell:/home/chwilko/Documents/studia/pwr/semestr8/CSoS/Python3/L6/Task_2.ipynb#ch0000002?line=9'>10</a>\u001b[0m MN \u001b[39m=\u001b[39m np\u001b[39m.\u001b[39marray(MN)\n\u001b[1;32m     <a href='vscode-notebook-cell:/home/chwilko/Documents/studia/pwr/semestr8/CSoS/Python3/L6/Task_2.ipynb#ch0000002?line=10'>11</a>\u001b[0m mu_empirical \u001b[39m=\u001b[39m np\u001b[39m.\u001b[39msum(MN, \u001b[39m0\u001b[39m) \u001b[39m/\u001b[39m MC\n",
      "\u001b[1;32m/home/chwilko/Documents/studia/pwr/semestr8/CSoS/Python3/L6/Task_2.ipynb Cell 2'\u001b[0m in \u001b[0;36mMN_distribution\u001b[0;34m(N, mu, sigma)\u001b[0m\n\u001b[1;32m      <a href='vscode-notebook-cell:/home/chwilko/Documents/studia/pwr/semestr8/CSoS/Python3/L6/Task_2.ipynb#ch0000001?line=8'>9</a>\u001b[0m Z \u001b[39m=\u001b[39m np\u001b[39m.\u001b[39mrandom\u001b[39m.\u001b[39mnormal(\u001b[39m0\u001b[39m,\u001b[39m1\u001b[39m,d)\n\u001b[1;32m     <a href='vscode-notebook-cell:/home/chwilko/Documents/studia/pwr/semestr8/CSoS/Python3/L6/Task_2.ipynb#ch0000001?line=9'>10</a>\u001b[0m MN\u001b[39m.\u001b[39mappend(L \u001b[39m@\u001b[39m Z \u001b[39m+\u001b[39m mu)\n\u001b[0;32m---> <a href='vscode-notebook-cell:/home/chwilko/Documents/studia/pwr/semestr8/CSoS/Python3/L6/Task_2.ipynb#ch0000001?line=10'>11</a>\u001b[0m \u001b[39mreturn\u001b[39;00m np\u001b[39m.\u001b[39;49marange(MN)\n",
      "\u001b[0;31mTypeError\u001b[0m: unsupported operand type(s) for -: 'list' and 'int'"
     ]
    }
   ],
   "source": [
    "MC = 10 ** 4\n",
    "\n",
    "mu = [1, 0]\n",
    "sigma = [[1,0.5], [0.5, 4]]\n",
    "\n",
    "MN = MN_distribution(MC, mu, sigma)\n",
    "\n",
    "\n",
    "\n",
    "MN = np.array(MN)\n",
    "mu_empirical = np.sum(MN, 0) / MC\n",
    "variance_empirical = (np.sum((MN - mu_empirical)**2, 0)) / (MC-1)\n",
    "co_variance_empirical = (np.sum(MN[:,0] * MN[:,1]) - mu_empirical[0] * mu_empirical[0]) / MC\n",
    "\n",
    "print(mu_empirical)\n",
    "print(variance_empirical)\n",
    "print(co_variance_empirical)"
   ]
  },
  {
   "cell_type": "code",
   "execution_count": 2,
   "metadata": {},
   "outputs": [
    {
     "data": {
      "text/plain": [
       "<function alphastable.alphastable(N, M, alpha, beta, gamma, delta, k)>"
      ]
     },
     "execution_count": 2,
     "metadata": {},
     "output_type": "execute_result"
    }
   ],
   "source": [
    "alphastable"
   ]
  },
  {
   "cell_type": "code",
   "execution_count": null,
   "metadata": {},
   "outputs": [],
   "source": []
  },
  {
   "cell_type": "code",
   "execution_count": null,
   "metadata": {},
   "outputs": [],
   "source": []
  }
 ],
 "metadata": {
  "interpreter": {
   "hash": "916dbcbb3f70747c44a77c7bcd40155683ae19c65e1c03b4aa3499c5328201f1"
  },
  "kernelspec": {
   "display_name": "Python 3.8.10 64-bit",
   "language": "python",
   "name": "python3"
  },
  "language_info": {
   "codemirror_mode": {
    "name": "ipython",
    "version": 3
   },
   "file_extension": ".py",
   "mimetype": "text/x-python",
   "name": "python",
   "nbconvert_exporter": "python",
   "pygments_lexer": "ipython3",
   "version": "3.10.1"
  },
  "orig_nbformat": 4
 },
 "nbformat": 4,
 "nbformat_minor": 2
}
