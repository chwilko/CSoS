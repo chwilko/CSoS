{
 "cells": [
  {
   "cell_type": "code",
   "execution_count": 1,
   "metadata": {},
   "outputs": [],
   "source": [
    "import sys\n",
    "import os\n",
    "import numpy as np\n",
    "\n",
    "sys.path.insert(1, os.sep.join([\"..\", \"packages\"]))\n",
    "from multivare import *\n"
   ]
  },
  {
   "cell_type": "code",
   "execution_count": 2,
   "metadata": {},
   "outputs": [
    {
     "name": "stdout",
     "output_type": "stream",
     "text": [
      "[ 1.00068081 -0.00547374]\n",
      "[1.01229763 4.01465743]\n",
      "0.49812903454247615\n"
     ]
    }
   ],
   "source": [
    "MC = 10 ** 4\n",
    "\n",
    "mu = [1, 0]\n",
    "sigma = [[1,0.5], [0.5, 4]]\n",
    "\n",
    "MN = MN_distribution(MC, mu, sigma)\n",
    "\n",
    "\n",
    "\n",
    "MN = np.array(MN)\n",
    "mu_empirical = np.sum(MN, 0) / MC\n",
    "variance_empirical = (np.sum((MN - mu_empirical)**2, 0)) / (MC-1)\n",
    "co_variance_empirical = (np.sum(MN[:,0] * MN[:,1]) - mu_empirical[0] * mu_empirical[0]) / MC\n",
    "\n",
    "print(mu_empirical)\n",
    "print(variance_empirical)\n",
    "print(co_variance_empirical)"
   ]
  },
  {
   "cell_type": "code",
   "execution_count": 3,
   "metadata": {},
   "outputs": [
    {
     "ename": "NameError",
     "evalue": "name 'alphastable' is not defined",
     "output_type": "error",
     "traceback": [
      "\u001b[0;31m---------------------------------------------------------------------------\u001b[0m",
      "\u001b[0;31mNameError\u001b[0m                                 Traceback (most recent call last)",
      "\u001b[1;32m/home/chwilko/Documents/studia/pwr/semestr8/CSoS/Python3/L6/Task_2.ipynb Cell 3'\u001b[0m in \u001b[0;36m<cell line: 1>\u001b[0;34m()\u001b[0m\n\u001b[0;32m----> <a href='vscode-notebook-cell:/home/chwilko/Documents/studia/pwr/semestr8/CSoS/Python3/L6/Task_2.ipynb#ch0000002?line=0'>1</a>\u001b[0m alphastable\n",
      "\u001b[0;31mNameError\u001b[0m: name 'alphastable' is not defined"
     ]
    }
   ],
   "source": [
    "alphastable"
   ]
  },
  {
   "cell_type": "code",
   "execution_count": null,
   "metadata": {},
   "outputs": [],
   "source": []
  },
  {
   "cell_type": "code",
   "execution_count": null,
   "metadata": {},
   "outputs": [],
   "source": []
  }
 ],
 "metadata": {
  "interpreter": {
   "hash": "916dbcbb3f70747c44a77c7bcd40155683ae19c65e1c03b4aa3499c5328201f1"
  },
  "kernelspec": {
   "display_name": "Python 3.8.10 64-bit",
   "language": "python",
   "name": "python3"
  },
  "language_info": {
   "codemirror_mode": {
    "name": "ipython",
    "version": 3
   },
   "file_extension": ".py",
   "mimetype": "text/x-python",
   "name": "python",
   "nbconvert_exporter": "python",
   "pygments_lexer": "ipython3",
   "version": "3.8.10"
  },
  "orig_nbformat": 4
 },
 "nbformat": 4,
 "nbformat_minor": 2
}
