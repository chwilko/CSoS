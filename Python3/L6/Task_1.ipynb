{
 "cells": [
  {
   "cell_type": "code",
   "execution_count": 2,
   "metadata": {},
   "outputs": [],
   "source": [
    "import numpy as np\n",
    "sys.path.insert(1, os.sep.join([\"..\", \"packages\"]))\n",
    "from basicDistributionFunctions import characterist_r_i"
   ]
  },
  {
   "cell_type": "code",
   "execution_count": null,
   "metadata": {},
   "outputs": [],
   "source": [
    "def tau(X, Y):\n",
    "    X_ch = characterist_r_i(1, X)\n",
    "    Y_ch = characterist_r_i(-1, Y)\n",
    "    X_Y_ch = characterist_r_i(1, X-Y)\n",
    "    return [np.log(X_Y_ch[0]) - np.log(X_ch[0]) - np.log(Y_ch[0]), np.log(X_Y_ch[1]) - np.log(X_ch[1]) - np.log(Y_ch[1])]\n"
   ]
  }
 ],
 "metadata": {
  "interpreter": {
   "hash": "916dbcbb3f70747c44a77c7bcd40155683ae19c65e1c03b4aa3499c5328201f1"
  },
  "kernelspec": {
   "display_name": "Python 3.8.10 64-bit",
   "language": "python",
   "name": "python3"
  },
  "language_info": {
   "codemirror_mode": {
    "name": "ipython",
    "version": 3
   },
   "file_extension": ".py",
   "mimetype": "text/x-python",
   "name": "python",
   "nbconvert_exporter": "python",
   "pygments_lexer": "ipython3",
   "version": "3.8.10"
  },
  "orig_nbformat": 4
 },
 "nbformat": 4,
 "nbformat_minor": 2
}
