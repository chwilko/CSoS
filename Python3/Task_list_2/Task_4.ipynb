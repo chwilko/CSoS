{
 "cells": [
  {
   "cell_type": "code",
   "execution_count": 1,
   "metadata": {},
   "outputs": [],
   "source": [
    "import sys\n",
    "import os\n",
    "import numpy as np\n",
    "from pingouin import multivariate_normality\n",
    "\n",
    "\n",
    "sys.path.insert(1, \"..\")\n",
    "from packages.multivare import MN_distribution, Cholesky_factor\n",
    "from packages.alphastable import *\n"
   ]
  },
  {
   "cell_type": "markdown",
   "metadata": {},
   "source": [
    "We use Cholesky factor to generate L such that L @ L.T = Sigma <br />\n",
    "X = L @ Z + mu"
   ]
  },
  {
   "cell_type": "code",
   "execution_count": 2,
   "metadata": {},
   "outputs": [
    {
     "name": "stdout",
     "output_type": "stream",
     "text": [
      "[[1.         0.        ]\n",
      " [0.5        1.93649167]]\n",
      "Powinno być 0:  0.0\n",
      "\n",
      "[[1.         0.         0.        ]\n",
      " [0.5        1.93649167 0.        ]\n",
      " [0.33333333 0.04303315 1.69912832]]\n",
      "Powinno być 0:  4.440892098500626e-16\n",
      "\n",
      "[[1.         0.         0.         0.        ]\n",
      " [0.5        1.32287566 0.         0.        ]\n",
      " [0.33333333 0.06299408 1.69850541 0.        ]\n",
      " [0.2        0.05039526 0.04298831 1.98887212]]\n",
      "Powinno być 0:  0.0\n",
      "\n"
     ]
    }
   ],
   "source": [
    "\n",
    "A_ = []\n",
    "A_.append(np.array([[1,1/2], [1/2,4]]))\n",
    "A_.append(np.array([[1,1/2, 1/3], [1/2,4, 1/4], [1/3, 1/4, 3]]))\n",
    "A_.append(np.array([[1,1/2, 1/3, 1/5], [1/2, 2, 1/4, 1/6],\n",
    "    [1/3, 1/4, 3, 1/7], [1/5, 1/6, 1/7, 4]]))\n",
    "\n",
    "for A in A_:\n",
    "    L = Cholesky_factor(A)\n",
    "    print(L)\n",
    "    print(\"Powinno być 0: \", (A - L @ L.T).sum())\n",
    "    print()"
   ]
  },
  {
   "cell_type": "code",
   "execution_count": 3,
   "metadata": {},
   "outputs": [],
   "source": [
    "N4 = 1000\n",
    "Sigma4 = np.array([[1,1/2, 1/3, 1/5], [1/2, 2, 1/4, 1/6],\n",
    "    [1/3, 1/4, 3, 1/7], [1/5, 1/6, 1/7, 4]])\n",
    "mu4 = np.array([-3,1,0,5])\n",
    "MN = MN_distribution(N4, mu4, Sigma4)"
   ]
  },
  {
   "cell_type": "code",
   "execution_count": 4,
   "metadata": {},
   "outputs": [
    {
     "data": {
      "text/plain": [
       "HZResults(hz=0.9532062423178479, pval=0.3166326760767514, normal=True)"
      ]
     },
     "execution_count": 4,
     "metadata": {},
     "output_type": "execute_result"
    }
   ],
   "source": [
    "multivariate_normality(MN, 0.05)\n"
   ]
  }
 ],
 "metadata": {
  "interpreter": {
   "hash": "916dbcbb3f70747c44a77c7bcd40155683ae19c65e1c03b4aa3499c5328201f1"
  },
  "kernelspec": {
   "display_name": "Python 3.8.10 64-bit",
   "language": "python",
   "name": "python3"
  },
  "language_info": {
   "codemirror_mode": {
    "name": "ipython",
    "version": 3
   },
   "file_extension": ".py",
   "mimetype": "text/x-python",
   "name": "python",
   "nbconvert_exporter": "python",
   "pygments_lexer": "ipython3",
   "version": "3.8.10"
  },
  "orig_nbformat": 4
 },
 "nbformat": 4,
 "nbformat_minor": 2
}
