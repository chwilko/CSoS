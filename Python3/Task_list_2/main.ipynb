{
 "cells": [
  {
   "cell_type": "markdown",
   "metadata": {},
   "source": [
    "# Task List 2"
   ]
  },
  {
   "cell_type": "code",
   "execution_count": 8,
   "metadata": {},
   "outputs": [],
   "source": [
    "import sys\n",
    "import os\n",
    "import numpy as np\n",
    "sys.path.insert(1, os.sep.join([\"..\", \"packages\"]))\n",
    "from multivare import MN_distribution, Cholesky_factor, tau_2_dim, multivate_characteristic_r_i\n",
    "from alphastable import *\n"
   ]
  },
  {
   "cell_type": "markdown",
   "metadata": {},
   "source": [
    "## Task 1"
   ]
  },
  {
   "cell_type": "markdown",
   "metadata": {},
   "source": [
    "## Task 2"
   ]
  },
  {
   "cell_type": "markdown",
   "metadata": {},
   "source": [
    "## Task 3"
   ]
  },
  {
   "cell_type": "markdown",
   "metadata": {},
   "source": [
    "## Task 4"
   ]
  },
  {
   "cell_type": "markdown",
   "metadata": {},
   "source": [
    "We use Cholesky factor to generate L such that L @ L.T = Sigma <br />\n",
    "X = L @ Z + mu"
   ]
  },
  {
   "cell_type": "code",
   "execution_count": 6,
   "metadata": {},
   "outputs": [
    {
     "name": "stdout",
     "output_type": "stream",
     "text": [
      "[[1.         0.        ]\n",
      " [0.5        1.93649167]]\n",
      "Powinno być 0:  0.0\n",
      "\n",
      "[[1.         0.         0.        ]\n",
      " [0.5        1.93649167 0.        ]\n",
      " [0.33333333 0.04303315 1.69912832]]\n",
      "Powinno być 0:  4.440892098500626e-16\n",
      "\n",
      "[[1.         0.         0.         0.        ]\n",
      " [0.5        1.32287566 0.         0.        ]\n",
      " [0.33333333 0.06299408 1.69850541 0.        ]\n",
      " [0.2        0.05039526 0.04298831 1.98887212]]\n",
      "Powinno być 0:  0.0\n",
      "\n"
     ]
    }
   ],
   "source": [
    "\n",
    "A_ = []\n",
    "A_.append(np.array([[1,1/2], [1/2,4]]))\n",
    "A_.append(np.array([[1,1/2, 1/3], [1/2,4, 1/4], [1/3, 1/4, 3]]))\n",
    "A_.append(np.array([[1,1/2, 1/3, 1/5], [1/2, 2, 1/4, 1/6],\n",
    "    [1/3, 1/4, 3, 1/7], [1/5, 1/6, 1/7, 4]]))\n",
    "\n",
    "for A in A_:\n",
    "    L = Cholesky_factor(A)\n",
    "    print(L)\n",
    "    print(\"Powinno być 0: \", (A - L @ L.T).sum())\n",
    "    print()"
   ]
  },
  {
   "cell_type": "code",
   "execution_count": 4,
   "metadata": {},
   "outputs": [
    {
     "data": {
      "text/plain": [
       "array([[-3.62582917, -0.61723519, -1.48757827,  1.58288817],\n",
       "       [-2.95982798,  1.37139033,  0.68402605,  6.3343849 ],\n",
       "       [-3.97039926, -0.53472565, -0.74819798,  0.89171974],\n",
       "       ...,\n",
       "       [-1.49860221,  0.12497989,  1.58796815,  7.24071089],\n",
       "       [-3.70103879,  0.5077933 ,  0.60440425,  4.28062683],\n",
       "       [-3.42918789,  2.17192681, -0.03117661,  3.35673899]])"
      ]
     },
     "execution_count": 4,
     "metadata": {},
     "output_type": "execute_result"
    }
   ],
   "source": [
    "N4 = 1000\n",
    "Sigma4 = np.array([[1,1/2, 1/3, 1/5], [1/2, 2, 1/4, 1/6],\n",
    "    [1/3, 1/4, 3, 1/7], [1/5, 1/6, 1/7, 4]])\n",
    "mu4 = np.array([-3,1,0,5])\n",
    "MN_distribution(N4, mu4, Sigma4)"
   ]
  },
  {
   "cell_type": "markdown",
   "metadata": {},
   "source": [
    "## Task 5"
   ]
  },
  {
   "cell_type": "markdown",
   "metadata": {},
   "source": [
    "## Task 6"
   ]
  },
  {
   "cell_type": "markdown",
   "metadata": {},
   "source": [
    "$\\Phi_{\\alpha}(\\varTheta) = \\mathbf{E}e^{i (\\varTheta \\circ X)}$"
   ]
  },
  {
   "cell_type": "markdown",
   "metadata": {},
   "source": [
    "Y = multivare_alphastable(2 * N, 1, alpha, 1/2, 0.25, 1, 1)\n"
   ]
  },
  {
   "cell_type": "markdown",
   "metadata": {},
   "source": [
    "## Task 7"
   ]
  },
  {
   "cell_type": "markdown",
   "metadata": {},
   "source": [
    "$\\tau_{X,Y} = \\| X \\|_{\\alpha} ^{\\alpha} + \\| Y \\|_{\\alpha} ^{\\alpha} - \\| X - Y \\|_{\\alpha} ^{\\alpha}$ <br />\n",
    "$\\tau_{X[0],X[1]} = \\| X[0] \\|_{\\alpha} ^{\\alpha} + \\| X[1] \\|_{\\alpha} ^{\\alpha} - \\| X[0] - X[1] \\|_{\\alpha} ^{\\alpha}$"
   ]
  },
  {
   "cell_type": "code",
   "execution_count": 12,
   "metadata": {},
   "outputs": [
    {
     "name": "stdout",
     "output_type": "stream",
     "text": [
      "[0.32169050084460427, 0.006623416076310333]\n",
      "[0.0039574461630546565, -0.007452492215433537]\n"
     ]
    }
   ],
   "source": [
    "alpha = 0.9\n",
    "N = 10 ** 4\n",
    "gamma = [0.25, 0.125, 0.25, 0.25, 0.125, 0.25]\n",
    "points = [[1, 0], [0.5, np.sqrt(3)/2],\n",
    "            [-1/2, np.sqrt(3)/2], [-1, 0],\n",
    "            [-1/2, -np.sqrt(3)/2], [1/2, -np.sqrt(3)/2]]\n",
    "\n",
    "X = multivariate_alphastable(alpha, gamma, points, N)\n",
    "Y = alphastable(2 * N, 1, alpha, 1/2, 0.25, 1, 1)\n",
    "print(tau_2_dim(X))\n",
    "\n",
    "Y = Y.reshape(N,2)\n",
    "\n",
    "print(tau_2_dim(Y))"
   ]
  }
 ],
 "metadata": {
  "interpreter": {
   "hash": "916dbcbb3f70747c44a77c7bcd40155683ae19c65e1c03b4aa3499c5328201f1"
  },
  "kernelspec": {
   "display_name": "Python 3.8.10 64-bit",
   "language": "python",
   "name": "python3"
  },
  "language_info": {
   "codemirror_mode": {
    "name": "ipython",
    "version": 3
   },
   "file_extension": ".py",
   "mimetype": "text/x-python",
   "name": "python",
   "nbconvert_exporter": "python",
   "pygments_lexer": "ipython3",
   "version": "3.8.10"
  },
  "orig_nbformat": 4
 },
 "nbformat": 4,
 "nbformat_minor": 2
}
