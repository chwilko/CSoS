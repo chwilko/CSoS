{
 "cells": [
  {
   "cell_type": "code",
   "execution_count": 2,
   "metadata": {},
   "outputs": [],
   "source": [
    "import sys\n",
    "import os\n",
    "import numpy as np\n",
    "sys.path.insert(1, os.sep.join([\"..\", \"packages\"]))\n",
    "from multivare import tau_2_dim\n",
    "from alphastable import *\n"
   ]
  },
  {
   "cell_type": "markdown",
   "metadata": {},
   "source": [
    "$\\tau_{X,Y} = \\| X \\|_{\\alpha} ^{\\alpha} + \\| Y \\|_{\\alpha} ^{\\alpha} - \\| X - Y \\|_{\\alpha} ^{\\alpha}$ <br />\n",
    "$\\tau_{X[0],X[1]} = \\| X[0] \\|_{\\alpha} ^{\\alpha} + \\| X[1] \\|_{\\alpha} ^{\\alpha} - \\| X[0] - X[1] \\|_{\\alpha} ^{\\alpha}$"
   ]
  },
  {
   "cell_type": "code",
   "execution_count": 67,
   "metadata": {},
   "outputs": [
    {
     "data": {
      "text/plain": [
       "[7.372590752597625e-17, -2.220446049250313e-16]"
      ]
     },
     "execution_count": 67,
     "metadata": {},
     "output_type": "execute_result"
    }
   ],
   "source": [
    "X = np.random.normal(1, 1,100000000)\n",
    "tau_2_dim(np.array([X,X]))\n",
    "\n"
   ]
  },
  {
   "cell_type": "code",
   "execution_count": 57,
   "metadata": {},
   "outputs": [
    {
     "data": {
      "text/plain": [
       "[-0.010046032755153922, -0.002453151152836286]"
      ]
     },
     "execution_count": 57,
     "metadata": {},
     "output_type": "execute_result"
    }
   ],
   "source": [
    "\n",
    "tau_2_dim(np.random.normal(1, 1,(100000,2)))"
   ]
  },
  {
   "cell_type": "code",
   "execution_count": 18,
   "metadata": {},
   "outputs": [
    {
     "data": {
      "text/plain": [
       "[7.755906134732296e-17, 0.0]"
      ]
     },
     "execution_count": 18,
     "metadata": {},
     "output_type": "execute_result"
    }
   ],
   "source": [
    "tau_2_dim(np.array([X,X]))"
   ]
  }
 ],
 "metadata": {
  "interpreter": {
   "hash": "916dbcbb3f70747c44a77c7bcd40155683ae19c65e1c03b4aa3499c5328201f1"
  },
  "kernelspec": {
   "display_name": "Python 3.8.10 64-bit",
   "language": "python",
   "name": "python3"
  },
  "language_info": {
   "codemirror_mode": {
    "name": "ipython",
    "version": 3
   },
   "file_extension": ".py",
   "mimetype": "text/x-python",
   "name": "python",
   "nbconvert_exporter": "python",
   "pygments_lexer": "ipython3",
   "version": "3.8.10"
  },
  "orig_nbformat": 4
 },
 "nbformat": 4,
 "nbformat_minor": 2
}
