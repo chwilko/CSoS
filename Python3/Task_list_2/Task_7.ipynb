{
 "cells": [
  {
   "cell_type": "code",
   "execution_count": 1,
   "metadata": {},
   "outputs": [],
   "source": [
    "import sys\n",
    "import os\n",
    "import numpy as np\n",
    "import matplotlib.pyplot as plt\n",
    "sys.path.insert(1, os.sep.join([\"..\", \"packages\"]))\n",
    "from multivare import tau_2_dim\n",
    "from alphastable import *\n"
   ]
  },
  {
   "cell_type": "markdown",
   "metadata": {},
   "source": [
    "$\\tau_{X,Y} = \\| X \\|_{\\alpha} ^{\\alpha} + \\| Y \\|_{\\alpha} ^{\\alpha} - \\| X - Y \\|_{\\alpha} ^{\\alpha}$ <br />\n",
    "$\\tau_{X[0],X[1]} = \\| X[0] \\|_{\\alpha} ^{\\alpha} + \\| X[1] \\|_{\\alpha} ^{\\alpha} - \\| X[0] - X[1] \\|_{\\alpha} ^{\\alpha}$"
   ]
  },
  {
   "cell_type": "code",
   "execution_count": 2,
   "metadata": {},
   "outputs": [],
   "source": [
    "MC = 10 ** 3\n"
   ]
  },
  {
   "cell_type": "code",
   "execution_count": 3,
   "metadata": {},
   "outputs": [],
   "source": [
    "T_n = []\n",
    "N = 10 ** 3\n",
    "for i in range(MC):\n",
    "    X = np.random.normal(1, 1,N)\n",
    "    T_n.append(tau_2_dim(np.array([X,X]).T)[0])\n"
   ]
  },
  {
   "cell_type": "code",
   "execution_count": 4,
   "metadata": {},
   "outputs": [
    {
     "data": {
      "image/png": "[encoded data removed]",
      "text/plain": [
       "<Figure size 432x288 with 1 Axes>"
      ]
     },
     "metadata": {
      "needs_background": "light"
     },
     "output_type": "display_data"
    }
   ],
   "source": [
    "\n",
    "plt.boxplot(T_n);\n",
    "plt.plot([1/2,3/2], [1,1], color = \"m\");"
   ]
  },
  {
   "cell_type": "code",
   "execution_count": 5,
   "metadata": {},
   "outputs": [],
   "source": [
    "T_n2 = []\n",
    "N = 10 ** 3\n",
    "for i in range(MC):\n",
    "    X = np.random.normal(0, 2, N)\n",
    "    T_n2.append(tau_2_dim(np.array([X,X]).T)[0])\n"
   ]
  },
  {
   "cell_type": "code",
   "execution_count": 6,
   "metadata": {},
   "outputs": [
    {
     "data": {
      "image/png": "[encoded data removed]",
      "text/plain": [
       "<Figure size 432x288 with 1 Axes>"
      ]
     },
     "metadata": {
      "needs_background": "light"
     },
     "output_type": "display_data"
    }
   ],
   "source": [
    "\n",
    "plt.boxplot(T_n2);\n",
    "plt.plot([1/2,3/2], [4,4], color = \"m\");"
   ]
  },
  {
   "cell_type": "code",
   "execution_count": 7,
   "metadata": {},
   "outputs": [],
   "source": [
    "alpha = 1.7\n",
    "N = 1000\n",
    "gamma = [0.3, 0.3]\n",
    "points = [(1,0), (0,1)]\n",
    "T_ma = []\n",
    "N = 10 ** 3\n",
    "for i in range(MC):\n",
    "    T_ma.append(tau_2_dim(multivariate_alphastable(alpha, gamma, points, N))[0])\n"
   ]
  },
  {
   "cell_type": "code",
   "execution_count": 8,
   "metadata": {},
   "outputs": [
    {
     "data": {
      "image/png": "[encoded data removed]",
      "text/plain": [
       "<Figure size 432x288 with 1 Axes>"
      ]
     },
     "metadata": {
      "needs_background": "light"
     },
     "output_type": "display_data"
    }
   ],
   "source": [
    "\n",
    "plt.boxplot(T_ma);\n",
    "plt.plot([1/2,3/2], [0,0], color = \"m\");"
   ]
  },
  {
   "cell_type": "code",
   "execution_count": 9,
   "metadata": {},
   "outputs": [],
   "source": [
    "alpha = 1.7\n",
    "N = 1000\n",
    "gamma = [0.3, 0.3]\n",
    "points = [(1,1), (-1,1)]\n",
    "T_ma2 = []\n",
    "N = 10 ** 3\n",
    "for i in range(MC):\n",
    "    T_ma2.append(tau_2_dim(multivariate_alphastable(alpha, gamma, points, N))[0])\n"
   ]
  },
  {
   "cell_type": "code",
   "execution_count": 10,
   "metadata": {},
   "outputs": [
    {
     "data": {
      "image/png": "[encoded data removed]",
      "text/plain": [
       "<Figure size 432x288 with 1 Axes>"
      ]
     },
     "metadata": {
      "needs_background": "light"
     },
     "output_type": "display_data"
    }
   ],
   "source": [
    "\n",
    "plt.boxplot(T_ma2);"
   ]
  }
 ],
 "metadata": {
  "interpreter": {
   "hash": "916dbcbb3f70747c44a77c7bcd40155683ae19c65e1c03b4aa3499c5328201f1"
  },
  "kernelspec": {
   "display_name": "Python 3.8.10 64-bit",
   "language": "python",
   "name": "python3"
  },
  "language_info": {
   "codemirror_mode": {
    "name": "ipython",
    "version": 3
   },
   "file_extension": ".py",
   "mimetype": "text/x-python",
   "name": "python",
   "nbconvert_exporter": "python",
   "pygments_lexer": "ipython3",
   "version": "3.10.1"
  },
  "orig_nbformat": 4
 },
 "nbformat": 4,
 "nbformat_minor": 2
}
