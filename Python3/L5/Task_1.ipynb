{
 "cells": [
  {
   "cell_type": "code",
   "execution_count": 1,
   "metadata": {},
   "outputs": [
    {
     "ename": "ModuleNotFoundError",
     "evalue": "No module named 'alphastable'",
     "output_type": "error",
     "traceback": [
      "\u001b[1;31m---------------------------------------------------------------------------\u001b[0m",
      "\u001b[1;31mModuleNotFoundError\u001b[0m                       Traceback (most recent call last)",
      "\u001b[1;32mc:\\Users\\andrz\\CSoS\\Python3\\L5\\Task_1.ipynb Cell 1'\u001b[0m in \u001b[0;36m<module>\u001b[1;34m\u001b[0m\n\u001b[0;32m      <a href='vscode-notebook-cell:/c%3A/Users/andrz/CSoS/Python3/L5/Task_1.ipynb#ch0000000?line=0'>1</a>\u001b[0m \u001b[39mimport\u001b[39;00m \u001b[39mnumpy\u001b[39;00m \u001b[39mas\u001b[39;00m \u001b[39mnp\u001b[39;00m\n\u001b[1;32m----> <a href='vscode-notebook-cell:/c%3A/Users/andrz/CSoS/Python3/L5/Task_1.ipynb#ch0000000?line=1'>2</a>\u001b[0m \u001b[39mfrom\u001b[39;00m \u001b[39malphastable\u001b[39;00m \u001b[39mimport\u001b[39;00m \u001b[39m*\u001b[39m\n\u001b[0;32m      <a href='vscode-notebook-cell:/c%3A/Users/andrz/CSoS/Python3/L5/Task_1.ipynb#ch0000000?line=2'>3</a>\u001b[0m \u001b[39mimport\u001b[39;00m \u001b[39mmatplotlib\u001b[39;00m\u001b[39m.\u001b[39;00m\u001b[39mpyplot\u001b[39;00m \u001b[39mas\u001b[39;00m \u001b[39mplt\u001b[39;00m\n",
      "\u001b[1;31mModuleNotFoundError\u001b[0m: No module named 'alphastable'"
     ]
    }
   ],
   "source": [
    "import numpy as np\n",
    "from alphastable import *\n",
    "import matplotlib.pyplot as plt"
   ]
  },
  {
   "cell_type": "code",
   "execution_count": null,
   "metadata": {},
   "outputs": [],
   "source": [
    "sigma = 1\n",
    "d = 2\n",
    "N = 100\n",
    "alpha = 1.3\n",
    "beta = 1\n",
    "gamma = np.cos((np.pi * alpha) / 4) ** (2/alpha)\n",
    "delta = 0\n",
    "G = np.random.normal(0, sigma, size=[N, d])\n",
    "A = alphastable(N, 1, alpha/2, beta, gamma, delta, 1)\n",
    "X = np.sqrt(A) * G"
   ]
  },
  {
   "cell_type": "code",
   "execution_count": null,
   "metadata": {},
   "outputs": [],
   "source": [
    "n = 5\n",
    "E = np.arange(0, 2*np.pi, np.pi / n)\n",
    "R = np.arange(10, 60, 10)\n",
    "Gamma = np.ones((len(E), len(R)))\n",
    "Gamma[:] = numpy.nan\n",
    "for k in range(len(E)):\n",
    "    e = E[k]\n",
    "    for j in range(len(R)):\n",
    "        r = R[j]\n",
    "        counter_1 = 0\n",
    "        counter_2 = 0\n",
    "        for i in range(len(X)):\n",
    "            if np.arctan2(X[i][0], X[i][1]) < e and np.arctan2(X[i][0], X[i][1]) > 0 and np.linalg.norm(X[i]) > r:\n",
    "                counter_1 += 1\n",
    "            if np.linalg.norm(X[i]) > r:\n",
    "                counter_2 += 1\n",
    "        if counter_2 != 0:\n",
    "            Gamma[k, j] = counter_1 / counter_2\n"
   ]
  },
  {
   "cell_type": "code",
   "execution_count": 28,
   "metadata": {},
   "outputs": [
    {
     "data": {
      "text/plain": [
       "array([[0. , 0. , 0. , nan, nan],\n",
       "       [0.2, 0.5, 0. , nan, nan],\n",
       "       [0.4, 0.5, 0. , nan, nan],\n",
       "       [0.4, 0.5, 0. , nan, nan],\n",
       "       [0.4, 0.5, 0. , nan, nan],\n",
       "       [0.4, 0.5, 0. , nan, nan],\n",
       "       [0.4, 0.5, 0. , nan, nan],\n",
       "       [0.4, 0.5, 0. , nan, nan],\n",
       "       [0.4, 0.5, 0. , nan, nan],\n",
       "       [0.4, 0.5, 0. , nan, nan]])"
      ]
     },
     "execution_count": 28,
     "metadata": {},
     "output_type": "execute_result"
    }
   ],
   "source": [
    "Gamma"
   ]
  }
 ],
 "metadata": {
  "interpreter": {
   "hash": "e147758ca6e842a8f4dce6ee7ce967040108b4ec19369a1050c2aad95a988b6d"
  },
  "kernelspec": {
   "display_name": "Python 3.10.1 64-bit",
   "language": "python",
   "name": "python3"
  },
  "language_info": {
   "codemirror_mode": {
    "name": "ipython",
    "version": 3
   },
   "file_extension": ".py",
   "mimetype": "text/x-python",
   "name": "python",
   "nbconvert_exporter": "python",
   "pygments_lexer": "ipython3",
   "version": "3.10.1"
  },
  "orig_nbformat": 4
 },
 "nbformat": 4,
 "nbformat_minor": 2
}
