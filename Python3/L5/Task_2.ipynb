{
 "cells": [
  {
   "cell_type": "code",
   "execution_count": 35,
   "metadata": {},
   "outputs": [],
   "source": [
    "import numpy as np\n",
    "import itertools\n",
    "from alphastable import *"
   ]
  },
  {
   "cell_type": "markdown",
   "metadata": {},
   "source": [
    "simulate\n"
   ]
  },
  {
   "cell_type": "code",
   "execution_count": 33,
   "metadata": {},
   "outputs": [],
   "source": [
    "sigma = 1\n",
    "d = 2\n",
    "N = 10\n",
    "alpha = 1.8\n",
    "beta = 1\n",
    "gamma = np.cos((np.pi * alpha) / 4) ** (2/alpha)\n",
    "delta = 0\n",
    "G = np.random.normal(0, sigma, size=[1, d])\n",
    "A = alphastable(N, 1, alpha/2, beta, gamma, delta, 1)\n",
    "X = np.sqrt(A) * G\n"
   ]
  },
  {
   "cell_type": "markdown",
   "metadata": {},
   "source": [
    "estimate the characteristic function\n"
   ]
  },
  {
   "cell_type": "code",
   "execution_count": 56,
   "metadata": {},
   "outputs": [
    {
     "ename": "TypeError",
     "evalue": "list indices must be integers or slices, not tuple",
     "output_type": "error",
     "traceback": [
      "\u001b[1;31m---------------------------------------------------------------------------\u001b[0m",
      "\u001b[1;31mTypeError\u001b[0m                                 Traceback (most recent call last)",
      "\u001b[1;32mc:\\Users\\andrz\\CSoS\\Python3\\L5\\Task_2.ipynb Cell 5'\u001b[0m in \u001b[0;36m<module>\u001b[1;34m\u001b[0m\n\u001b[0;32m      <a href='vscode-notebook-cell:/c%3A/Users/andrz/CSoS/Python3/L5/Task_2.ipynb#ch0000008?line=2'>3</a>\u001b[0m Char \u001b[39m=\u001b[39m np\u001b[39m.\u001b[39mones(np\u001b[39m.\u001b[39mshape(perm))\n\u001b[0;32m      <a href='vscode-notebook-cell:/c%3A/Users/andrz/CSoS/Python3/L5/Task_2.ipynb#ch0000008?line=3'>4</a>\u001b[0m \u001b[39mfor\u001b[39;00m i \u001b[39min\u001b[39;00m \u001b[39mrange\u001b[39m(\u001b[39mlen\u001b[39m(X)):\n\u001b[1;32m----> <a href='vscode-notebook-cell:/c%3A/Users/andrz/CSoS/Python3/L5/Task_2.ipynb#ch0000008?line=4'>5</a>\u001b[0m     np\u001b[39m.\u001b[39mexp(np\u001b[39m.\u001b[39mimag \u001b[39m*\u001b[39m (perm[:, \u001b[39m0\u001b[39;49m] \u001b[39m*\u001b[39m X[:, \u001b[39m0\u001b[39m] \u001b[39m+\u001b[39m perm[:, \u001b[39m1\u001b[39m] \u001b[39m*\u001b[39m X[:, \u001b[39m1\u001b[39m]))\n\u001b[0;32m      <a href='vscode-notebook-cell:/c%3A/Users/andrz/CSoS/Python3/L5/Task_2.ipynb#ch0000008?line=5'>6</a>\u001b[0m end\n",
      "\u001b[1;31mTypeError\u001b[0m: list indices must be integers or slices, not tuple"
     ]
    }
   ],
   "source": [
    "T = np.arange(-3, 3, 0.01)\n",
    "perm = np.meshgrid(T, T)\n",
    "Char = np.ones(np.shape(perm))\n",
    "np.mean(np.exp(np.imag * (perm[:, 0] * X[:, 0] + perm[:, 1] * X[:, 1])))\n"
   ]
  },
  {
   "cell_type": "code",
   "execution_count": 57,
   "metadata": {},
   "outputs": [
    {
     "data": {
      "text/plain": [
       "(2, 600, 600)"
      ]
     },
     "execution_count": 57,
     "metadata": {},
     "output_type": "execute_result"
    }
   ],
   "source": [
    "np.shape(perm)\n"
   ]
  }
 ],
 "metadata": {
  "interpreter": {
   "hash": "e147758ca6e842a8f4dce6ee7ce967040108b4ec19369a1050c2aad95a988b6d"
  },
  "kernelspec": {
   "display_name": "Python 3.10.1 64-bit",
   "language": "python",
   "name": "python3"
  },
  "language_info": {
   "codemirror_mode": {
    "name": "ipython",
    "version": 3
   },
   "file_extension": ".py",
   "mimetype": "text/x-python",
   "name": "python",
   "nbconvert_exporter": "python",
   "pygments_lexer": "ipython3",
   "version": "3.10.1"
  },
  "orig_nbformat": 4
 },
 "nbformat": 4,
 "nbformat_minor": 2
}
