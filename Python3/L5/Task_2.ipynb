{
 "cells": [
  {
   "cell_type": "code",
   "execution_count": 1,
   "metadata": {},
   "outputs": [],
   "source": [
    "import numpy as np\n",
    "import itertools\n",
    "from alphastable import *"
   ]
  },
  {
   "cell_type": "markdown",
   "metadata": {},
   "source": [
    "simulate\n"
   ]
  },
  {
   "cell_type": "code",
   "execution_count": 2,
   "metadata": {},
   "outputs": [],
   "source": [
    "sigma = 1\n",
    "d = 2\n",
    "N = 10\n",
    "alpha = 1.8\n",
    "beta = 1\n",
    "gamma = np.cos((np.pi * alpha) / 4) ** (2/alpha)\n",
    "delta = 0\n",
    "G = np.random.normal(0, sigma, size=[1, d])\n",
    "A = alphastable(N, 1, alpha/2, beta, gamma, delta, 1)\n",
    "X = np.sqrt(A) * G\n"
   ]
  },
  {
   "cell_type": "markdown",
   "metadata": {},
   "source": [
    "estimate the characteristic function\n"
   ]
  },
  {
   "cell_type": "code",
   "execution_count": 36,
   "metadata": {},
   "outputs": [],
   "source": [
    "T = np.arange(-3, 3 + 0.01, 0.01)\n",
    "Theta_1, Theta_2 = np.meshgrid(T, T)\n",
    "Re = np.ones((len(Theta_1), len(Theta_1), len(Theta_1)))\n",
    "Im = np.ones((len(Theta_1), len(Theta_1), len(Theta_1)))\n",
    "for i in range(len(Theta_1)):\n",
    "    for j in range(len(X)):\n",
    "        Re[i, i, j] = np.cos(Theta_1[i] * X[j, 0] + Theta_2[i] * X[j, 1])\n",
    "        Im[i, i, j] = np.sin(Theta_1[i] * X[j, 0] + Theta_2[i] * X[j, 1])\n",
    "Re = np.sum(Re, 2)/len(X)\n",
    "Im = np.sum(Im, 2)/len(X)"
   ]
  },
  {
   "cell_type": "code",
   "execution_count": 31,
   "metadata": {},
   "outputs": [
    {
     "data": {
      "text/plain": [
       "10"
      ]
     },
     "execution_count": 31,
     "metadata": {},
     "output_type": "execute_result"
    }
   ],
   "source": [
    "len(X)"
   ]
  },
  {
   "cell_type": "code",
   "execution_count": 29,
   "metadata": {},
   "outputs": [
    {
     "data": {
      "text/plain": [
       "array([-0.5584637 , -0.56678619, -0.4677218 , -1.25784978, -0.81203575,\n",
       "       -0.4624535 , -0.49166146, -0.63985363, -1.5502741 , -0.69298243])"
      ]
     },
     "execution_count": 29,
     "metadata": {},
     "output_type": "execute_result"
    }
   ],
   "source": [
    "X[:, 0]"
   ]
  },
  {
   "cell_type": "code",
   "execution_count": null,
   "metadata": {},
   "outputs": [
    {
     "data": {
      "text/plain": [
       "(2, 600, 600)"
      ]
     },
     "execution_count": 57,
     "metadata": {},
     "output_type": "execute_result"
    }
   ],
   "source": [
    "function characterist_r_i(t, X, MC)\n",
    "    len = length(t);\n",
    "    X = X * ones(1,length(t));\n",
    "    t = t' .* ones(MC,1);\n",
    "    Re = (sum(cos.(X .* t), dims = 1) ./ (MC * ones(1,len)))';\n",
    "    Im = (sum(sin.(X .* t), dims = 1) ./ (MC * ones(1,len)))';\n",
    "    return [Re Im];\n",
    "end\n"
   ]
  }
 ],
 "metadata": {
  "interpreter": {
   "hash": "e147758ca6e842a8f4dce6ee7ce967040108b4ec19369a1050c2aad95a988b6d"
  },
  "kernelspec": {
   "display_name": "Python 3.10.1 64-bit",
   "language": "python",
   "name": "python3"
  },
  "language_info": {
   "codemirror_mode": {
    "name": "ipython",
    "version": 3
   },
   "file_extension": ".py",
   "mimetype": "text/x-python",
   "name": "python",
   "nbconvert_exporter": "python",
   "pygments_lexer": "ipython3",
   "version": "3.10.1"
  },
  "orig_nbformat": 4
 },
 "nbformat": 4,
 "nbformat_minor": 2
}
