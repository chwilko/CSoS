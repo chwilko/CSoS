{
 "cells": [
  {
   "cell_type": "code",
   "execution_count": null,
   "metadata": {},
   "outputs": [],
   "source": [
    "import numpy as np\n",
    "import matplotlib.pyplot as plt\n",
    "import itertools\n",
    "from alphastable import *"
   ]
  },
  {
   "cell_type": "markdown",
   "metadata": {},
   "source": [
    "simulate\n"
   ]
  },
  {
   "cell_type": "code",
   "execution_count": null,
   "metadata": {},
   "outputs": [],
   "source": [
    "sigma = 1\n",
    "d = 2\n",
    "N = 100\n",
    "alpha = 1.8\n",
    "beta = 1\n",
    "gamma = np.cos((np.pi * alpha) / 4) ** (2/alpha)\n",
    "delta = 0\n",
    "G = np.random.normal(0, sigma, size=[1, d])\n",
    "A = alphastable(N, 1, alpha/2, beta, gamma, delta, 1)\n",
    "X = np.sqrt(A) * G\n"
   ]
  },
  {
   "cell_type": "markdown",
   "metadata": {},
   "source": [
    "estimate the characteristic function\n"
   ]
  },
  {
   "cell_type": "code",
   "execution_count": 3,
   "metadata": {},
   "outputs": [
    {
     "ename": "KeyboardInterrupt",
     "evalue": "",
     "output_type": "error",
     "traceback": [
      "\u001b[0;31m---------------------------------------------------------------------------\u001b[0m",
      "\u001b[0;31mKeyboardInterrupt\u001b[0m                         Traceback (most recent call last)",
      "\u001b[1;32m/home/chwilko/Documents/studia/pwr/semestr8/CSoS/Python3/L5/Task_2.ipynb Cell 5'\u001b[0m in \u001b[0;36m<cell line: 4>\u001b[0;34m()\u001b[0m\n\u001b[1;32m      <a href='vscode-notebook-cell:/home/chwilko/Documents/studia/pwr/semestr8/CSoS/Python3/L5/Task_2.ipynb#ch0000004?line=5'>6</a>\u001b[0m         \u001b[39mfor\u001b[39;00m k \u001b[39min\u001b[39;00m \u001b[39mrange\u001b[39m(\u001b[39mlen\u001b[39m(X)):\n\u001b[1;32m      <a href='vscode-notebook-cell:/home/chwilko/Documents/studia/pwr/semestr8/CSoS/Python3/L5/Task_2.ipynb#ch0000004?line=6'>7</a>\u001b[0m             Re[i, j, k] \u001b[39m=\u001b[39m np\u001b[39m.\u001b[39mcos(T[i] \u001b[39m*\u001b[39m X[k, \u001b[39m0\u001b[39m] \u001b[39m+\u001b[39m T[j] \u001b[39m*\u001b[39m X[k, \u001b[39m1\u001b[39m])\n\u001b[0;32m----> <a href='vscode-notebook-cell:/home/chwilko/Documents/studia/pwr/semestr8/CSoS/Python3/L5/Task_2.ipynb#ch0000004?line=7'>8</a>\u001b[0m             Im[i, j, k] \u001b[39m=\u001b[39m np\u001b[39m.\u001b[39msin(T[i] \u001b[39m*\u001b[39m X[k, \u001b[39m0\u001b[39m] \u001b[39m+\u001b[39m T[j] \u001b[39m*\u001b[39m X[k, \u001b[39m1\u001b[39m])\n\u001b[1;32m      <a href='vscode-notebook-cell:/home/chwilko/Documents/studia/pwr/semestr8/CSoS/Python3/L5/Task_2.ipynb#ch0000004?line=8'>9</a>\u001b[0m Re_MC \u001b[39m=\u001b[39m np\u001b[39m.\u001b[39msum(Re, \u001b[39m2\u001b[39m)\u001b[39m/\u001b[39m\u001b[39mlen\u001b[39m(X)\n\u001b[1;32m     <a href='vscode-notebook-cell:/home/chwilko/Documents/studia/pwr/semestr8/CSoS/Python3/L5/Task_2.ipynb#ch0000004?line=9'>10</a>\u001b[0m Im_MC \u001b[39m=\u001b[39m np\u001b[39m.\u001b[39msum(Im, \u001b[39m2\u001b[39m)\u001b[39m/\u001b[39m\u001b[39mlen\u001b[39m(X)\n",
      "\u001b[0;31mKeyboardInterrupt\u001b[0m: "
     ]
    }
   ],
   "source": [
    "T = np.arange(-3, 3 + 0.01, 0.01)\n",
    "Re = np.ones((len(T), len(T), len(X)))\n",
    "Im = np.ones((len(T), len(T), len(X)))\n",
    "for i in range(len(T)):\n",
    "    for j in range(len(T)):\n",
    "        for k in range(len(X)):\n",
    "            Re[i, j, k] = np.cos(T[i] * X[k, 0] + T[j] * X[k, 1])\n",
    "            Im[i, j, k] = np.sin(T[i] * X[k, 0] + T[j] * X[k, 1])\n",
    "Re_MC = np.sum(Re, 2)/len(X)\n",
    "Im_MC = np.sum(Im, 2)/len(X)\n",
    "\n"
   ]
  },
  {
   "cell_type": "code",
   "execution_count": null,
   "metadata": {},
   "outputs": [],
   "source": [
    "tmpT = []\n",
    "for i in range(len(T)):\n",
    "    for j in range(len(T)):\n",
    "        tmpT.append([T[i], T[j]])\n",
    "\n",
    "tmpT = np.array(tmpT)\n",
    "tmpX = np.repeat(X) #!sprawdzić ile razy\n",
    "Re = np.zeros((len(T)**2))\n",
    "Im = np.zeros((len(T)**2))\n",
    "\n",
    "for k in range(len(X)):\n",
    "    tmp = sum(tmpT*X)\n",
    "    Re += np.cos(sum)\n",
    "    Im += np.sin(T[i] * X[k, 0] + T[j] * X[k, 1])\n",
    "    #! domyśleć i dokończyć"
   ]
  },
  {
   "cell_type": "code",
   "execution_count": null,
   "metadata": {},
   "outputs": [],
   "source": []
  },
  {
   "cell_type": "code",
   "execution_count": null,
   "metadata": {},
   "outputs": [],
   "source": [
    "\n",
    "def characterist_fun_task2(theta, alpha, sigma):\n",
    "    '''\n",
    "    theta powinna byc listą list punktów,\n",
    "    dla których liczona jest funkcja charakterystyczna,\n",
    "    lub odpowiednią macierza.\n",
    "    '''\n",
    "    def myAbs(theta):\n",
    "        if theta.shape == 1:\n",
    "            return abs(theta)\n",
    "        return np.sqrt(np.sum(theta ** 2, 1))\n",
    "\n",
    "    theta = np.array(theta)\n",
    "    # beta = 1\n",
    "    # gamma = np.cos(np.pi * alpha / 4) ** (2 / alpha)\n",
    "    # delta = 0\n",
    "    return np.exp(-(2 ** (-alpha/2)) * (sigma ** alpha) * (myAbs(theta) ** alpha))\n",
    "\n",
    "def characterist_fun_meshgrid(theta, alpha, sigma):\n",
    "    '''\n",
    "    theta powinna byc listą par punktow w kolejnych wymiarach,\n",
    "    lub odpowiednią macierza.\n",
    "    '''\n",
    "    theta = np.array(theta)\n",
    "    tet = []\n",
    "    for i in range(len(theta[0])):\n",
    "        for j in range(len(theta[1])):\n",
    "            tet.append([theta[0][i], theta[1][j]])\n",
    "    tet = characterist_fun_task2(tet, alpha, sigma)\n",
    "    return tet.reshape(len(theta[0]), len(theta[1]))\n",
    "\n",
    "    "
   ]
  },
  {
   "cell_type": "code",
   "execution_count": null,
   "metadata": {},
   "outputs": [],
   "source": [
    "np.shape(Re_MC)"
   ]
  },
  {
   "cell_type": "code",
   "execution_count": null,
   "metadata": {},
   "outputs": [],
   "source": [
    "plt.figure(1)\n",
    "plt.colorbar()\n",
    "plt.figure(2)\n",
    "plt.pcolormesh(characterist_fun_meshgrid([T,T], alpha, sigma))\n",
    "plt.colorbar()\n"
   ]
  },
  {
   "cell_type": "code",
   "execution_count": null,
   "metadata": {},
   "outputs": [],
   "source": []
  }
 ],
 "metadata": {
  "interpreter": {
   "hash": "e147758ca6e842a8f4dce6ee7ce967040108b4ec19369a1050c2aad95a988b6d"
  },
  "kernelspec": {
   "display_name": "Python 3.10.1 64-bit",
   "language": "python",
   "name": "python3"
  },
  "language_info": {
   "codemirror_mode": {
    "name": "ipython",
    "version": 3
   },
   "file_extension": ".py",
   "mimetype": "text/x-python",
   "name": "python",
   "nbconvert_exporter": "python",
   "pygments_lexer": "ipython3",
   "version": "3.10.1"
  },
  "orig_nbformat": 4
 },
 "nbformat": 4,
 "nbformat_minor": 2
}
