{
 "cells": [
  {
   "cell_type": "code",
   "execution_count": 1,
   "metadata": {},
   "outputs": [],
   "source": [
    "import numpy as np\n",
    "import itertools\n",
    "from alphastable import *"
   ]
  },
  {
   "cell_type": "markdown",
   "metadata": {},
   "source": [
    "simulate\n"
   ]
  },
  {
   "cell_type": "code",
   "execution_count": 2,
   "metadata": {},
   "outputs": [],
   "source": [
    "sigma = 1\n",
    "d = 2\n",
    "N = 10\n",
    "alpha = 1.8\n",
    "beta = 1\n",
    "gamma = np.cos((np.pi * alpha) / 4) ** (2/alpha)\n",
    "delta = 0\n",
    "G = np.random.normal(0, sigma, size=[1, d])\n",
    "A = alphastable(N, 1, alpha/2, beta, gamma, delta, 1)\n",
    "X = np.sqrt(A) * G\n"
   ]
  },
  {
   "cell_type": "markdown",
   "metadata": {},
   "source": [
    "estimate the characteristic function\n"
   ]
  },
  {
   "cell_type": "code",
   "execution_count": 22,
   "metadata": {},
   "outputs": [
    {
     "ename": "NameError",
     "evalue": "name 't' is not defined",
     "output_type": "error",
     "traceback": [
      "\u001b[1;31m---------------------------------------------------------------------------\u001b[0m",
      "\u001b[1;31mNameError\u001b[0m                                 Traceback (most recent call last)",
      "\u001b[1;32mc:\\Users\\andrz\\CSoS\\Python3\\L5\\Task_2.ipynb Cell 5'\u001b[0m in \u001b[0;36m<module>\u001b[1;34m\u001b[0m\n\u001b[0;32m      <a href='vscode-notebook-cell:/c%3A/Users/andrz/CSoS/Python3/L5/Task_2.ipynb#ch0000004?line=1'>2</a>\u001b[0m Theta_1, Theta_2 \u001b[39m=\u001b[39m np\u001b[39m.\u001b[39mmeshgrid(T, T)\n\u001b[0;32m      <a href='vscode-notebook-cell:/c%3A/Users/andrz/CSoS/Python3/L5/Task_2.ipynb#ch0000004?line=2'>3</a>\u001b[0m Char \u001b[39m=\u001b[39m np\u001b[39m.\u001b[39mones(np\u001b[39m.\u001b[39mshape(perm))\n\u001b[1;32m----> <a href='vscode-notebook-cell:/c%3A/Users/andrz/CSoS/Python3/L5/Task_2.ipynb#ch0000004?line=3'>4</a>\u001b[0m Re \u001b[39m=\u001b[39m np\u001b[39m.\u001b[39msum(np\u001b[39m.\u001b[39mcos(X \u001b[39m*\u001b[39m t), dims \u001b[39m=\u001b[39m \u001b[39m1\u001b[39m) \u001b[39m/\u001b[39m np\u001b[39m.\u001b[39mshape(perm)[\u001b[39m1\u001b[39m]\n\u001b[0;32m      <a href='vscode-notebook-cell:/c%3A/Users/andrz/CSoS/Python3/L5/Task_2.ipynb#ch0000004?line=4'>5</a>\u001b[0m Im \u001b[39m=\u001b[39m np\u001b[39m.\u001b[39msum(np\u001b[39m.\u001b[39msin(X \u001b[39m*\u001b[39m t), dims \u001b[39m=\u001b[39m \u001b[39m1\u001b[39m) \u001b[39m/\u001b[39m np\u001b[39m.\u001b[39mshape(perm)[\u001b[39m1\u001b[39m]\n",
      "\u001b[1;31mNameError\u001b[0m: name 't' is not defined"
     ]
    }
   ],
   "source": [
    "T = np.arange(-3, 3 + 0.01, 0.01)\n",
    "Theta_1, Theta_2 = np.meshgrid(T, T)\n",
    "for i in range(len(Theta_1)):\n",
    "    for j in range(len(X)):\n",
    "    Re = np.sum(np.cos(Theta_1[i] * X[j, 0] + Theta_2[i] * X[j, 1])) / MC\n",
    "    Im = np.sum(np.sin(Theta_1[i] * X[j, 0] + Theta_2[i] * X[j, 1])) / MC\n"
   ]
  },
  {
   "cell_type": "code",
   "execution_count": 31,
   "metadata": {},
   "outputs": [
    {
     "data": {
      "text/plain": [
       "10"
      ]
     },
     "execution_count": 31,
     "metadata": {},
     "output_type": "execute_result"
    }
   ],
   "source": [
    "len(X)"
   ]
  },
  {
   "cell_type": "code",
   "execution_count": 29,
   "metadata": {},
   "outputs": [
    {
     "data": {
      "text/plain": [
       "array([-0.5584637 , -0.56678619, -0.4677218 , -1.25784978, -0.81203575,\n",
       "       -0.4624535 , -0.49166146, -0.63985363, -1.5502741 , -0.69298243])"
      ]
     },
     "execution_count": 29,
     "metadata": {},
     "output_type": "execute_result"
    }
   ],
   "source": [
    "X[:, 0]"
   ]
  },
  {
   "cell_type": "code",
   "execution_count": null,
   "metadata": {},
   "outputs": [
    {
     "data": {
      "text/plain": [
       "(2, 600, 600)"
      ]
     },
     "execution_count": 57,
     "metadata": {},
     "output_type": "execute_result"
    }
   ],
   "source": [
    "function characterist_r_i(t, X, MC)\n",
    "    len = length(t);\n",
    "    X = X * ones(1,length(t));\n",
    "    t = t' .* ones(MC,1);\n",
    "    Re = (sum(cos.(X .* t), dims = 1) ./ (MC * ones(1,len)))';\n",
    "    Im = (sum(sin.(X .* t), dims = 1) ./ (MC * ones(1,len)))';\n",
    "    return [Re Im];\n",
    "end\n"
   ]
  }
 ],
 "metadata": {
  "interpreter": {
   "hash": "e147758ca6e842a8f4dce6ee7ce967040108b4ec19369a1050c2aad95a988b6d"
  },
  "kernelspec": {
   "display_name": "Python 3.10.1 64-bit",
   "language": "python",
   "name": "python3"
  },
  "language_info": {
   "codemirror_mode": {
    "name": "ipython",
    "version": 3
   },
   "file_extension": ".py",
   "mimetype": "text/x-python",
   "name": "python",
   "nbconvert_exporter": "python",
   "pygments_lexer": "ipython3",
   "version": "3.10.1"
  },
  "orig_nbformat": 4
 },
 "nbformat": 4,
 "nbformat_minor": 2
}
