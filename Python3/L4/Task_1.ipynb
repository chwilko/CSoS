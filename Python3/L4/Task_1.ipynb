{
 "cells": [
  {
   "cell_type": "code",
   "execution_count": 1,
   "metadata": {},
   "outputs": [],
   "source": [
    "import numpy as np\n",
    "import os\n",
    "import sys\n",
    "from alphastable import *\n"
   ]
  },
  {
   "cell_type": "code",
   "execution_count": 2,
   "metadata": {},
   "outputs": [],
   "source": [
    "alpha = 0.9\n",
    "gamma = [0.25, 0.125, 0.25, 0.25, 0.125, 0.25]\n",
    "points = [[1, 0], [0.5, np.sqrt(3)/2],\n",
    "            [-1/2, np.sqrt(3)/2], [-1, 0],\n",
    "            [-1/2, -np.sqrt(3)/2], [1/2, -np.sqrt(3)/2]] \n"
   ]
  },
  {
   "cell_type": "code",
   "execution_count": 3,
   "metadata": {},
   "outputs": [
    {
     "ename": "ValueError",
     "evalue": "operands could not be broadcast together with shapes (6,6) (6,2) ",
     "output_type": "error",
     "traceback": [
      "\u001b[1;31m---------------------------------------------------------------------------\u001b[0m",
      "\u001b[1;31mValueError\u001b[0m                                Traceback (most recent call last)",
      "\u001b[1;32mc:\\Users\\andrz\\CSoS\\Python3\\L4\\Task_1.ipynb Cell 3'\u001b[0m in \u001b[0;36m<module>\u001b[1;34m\u001b[0m\n\u001b[1;32m----> <a href='vscode-notebook-cell:/c%3A/Users/andrz/CSoS/Python3/L4/Task_1.ipynb#ch0000002?line=0'>1</a>\u001b[0m multivariate_alphastable(alpha, gamma, points)\n",
      "File \u001b[1;32mc:\\Users\\andrz\\CSoS\\Python3\\L4\\alphastable.py:73\u001b[0m, in \u001b[0;36mmultivariate_alphastable\u001b[1;34m(alpha, gamma, points)\u001b[0m\n\u001b[0;32m     <a href='file:///c%3A/Users/andrz/CSoS/Python3/L4/alphastable.py?line=70'>71</a>\u001b[0m points \u001b[39m=\u001b[39m np\u001b[39m.\u001b[39marray(points)\n\u001b[0;32m     <a href='file:///c%3A/Users/andrz/CSoS/Python3/L4/alphastable.py?line=71'>72</a>\u001b[0m Z \u001b[39m=\u001b[39m alphastable(\u001b[39mlen\u001b[39m(gamma), \u001b[39m1\u001b[39m, alpha, \u001b[39m1\u001b[39m, \u001b[39m1\u001b[39m, \u001b[39m0\u001b[39m, \u001b[39m1\u001b[39m)\n\u001b[1;32m---> <a href='file:///c%3A/Users/andrz/CSoS/Python3/L4/alphastable.py?line=72'>73</a>\u001b[0m \u001b[39mreturn\u001b[39;00m np\u001b[39m.\u001b[39msum(gamma \u001b[39m*\u001b[39;49m Z \u001b[39m*\u001b[39;49m points, \u001b[39m0\u001b[39m)\n",
      "\u001b[1;31mValueError\u001b[0m: operands could not be broadcast together with shapes (6,6) (6,2) "
     ]
    }
   ],
   "source": [
    "multivariate_alphastable(alpha, gamma, points)"
   ]
  },
  {
   "cell_type": "code",
   "execution_count": null,
   "metadata": {},
   "outputs": [],
   "source": []
  }
 ],
 "metadata": {
  "interpreter": {
   "hash": "e147758ca6e842a8f4dce6ee7ce967040108b4ec19369a1050c2aad95a988b6d"
  },
  "kernelspec": {
   "display_name": "Python 3.10.1 64-bit",
   "language": "python",
   "name": "python3"
  },
  "language_info": {
   "codemirror_mode": {
    "name": "ipython",
    "version": 3
   },
   "file_extension": ".py",
   "mimetype": "text/x-python",
   "name": "python",
   "nbconvert_exporter": "python",
   "pygments_lexer": "ipython3",
   "version": "3.10.1"
  },
  "orig_nbformat": 4
 },
 "nbformat": 4,
 "nbformat_minor": 2
}
