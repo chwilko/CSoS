{
 "cells": [
  {
   "cell_type": "code",
   "execution_count": 1,
   "metadata": {},
   "outputs": [],
   "source": [
    "import sys\n",
    "import os\n",
    "\n",
    "import numpy as np\n",
    "import matplotlib.pyplot as plt\n",
    "\n",
    "from scipy.stats import norm, levy_stable, ks_2samp\n",
    "sys.path.insert(1, os.sep.join([\"..\", \"packages\"]))\n",
    "from Levy_processes import *\n",
    "from basicDistributionFunctions import *\n"
   ]
  },
  {
   "cell_type": "code",
   "execution_count": 2,
   "metadata": {},
   "outputs": [],
   "source": [
    "Image_width = 10"
   ]
  },
  {
   "cell_type": "code",
   "execution_count": 3,
   "metadata": {},
   "outputs": [],
   "source": [
    "N = 10 ** 3\n",
    "dt = 0.01\n",
    "T = N * dt # = 10\n",
    "M = 10 ** 3\n",
    "\n",
    "t = np.linspace(0, 1, N)\n",
    "ps = [0.1, 0.3, 0.5, 0.7, 0.9]"
   ]
  },
  {
   "cell_type": "markdown",
   "metadata": {},
   "source": [
    "# Brownian Motion"
   ]
  },
  {
   "cell_type": "markdown",
   "metadata": {},
   "source": [
    "# 1.5-stable simetric Levy motin"
   ]
  },
  {
   "cell_type": "markdown",
   "metadata": {},
   "source": []
  },
  {
   "cell_type": "markdown",
   "metadata": {},
   "source": [
    "## quantile lines"
   ]
  },
  {
   "cell_type": "code",
   "execution_count": 4,
   "metadata": {},
   "outputs": [],
   "source": [
    "alpha = 2\n",
    "beta = 0\n",
    "\n",
    "X_Brownian_motion = Levy_prcesses(T, M, N, 2, 0)"
   ]
  },
  {
   "cell_type": "code",
   "execution_count": null,
   "metadata": {},
   "outputs": [],
   "source": [
    "fig_q, axs_q = plt.subplots(nrows = 1, ncols = 1, figsize = ( Image_width, Image_width))\n",
    "\n",
    "\n",
    "Quantile = np.zeros([len(ps), N])\n",
    "Quantile_teoretic = np.zeros([len(ps),N])\n",
    "\n",
    "# for i in range()\n",
    "\n",
    "\n",
    "for Np, p in enumerate(ps):\n",
    "    for k in range(N):\n",
    "        # print(len(equantile_proces(X.T, p)))\n",
    "        Quantile[Np,:] = np.squeeze(equantile_proces(X_Brownian_motion.T, p))\n",
    "\n",
    "    for k in range(len(ps)):\n",
    "        Quantile_teoretic[Np,:] = levy_stable.ppf(p, 2, 0)\n",
    "        # Quantile_teoretic[k,:] = Quantile_teoretic[k,:] * np.sqrt(T * k / M)\n",
    "\n",
    "for k in range(N):\n",
    "    Quantile_teoretic[:,k] = Quantile_teoretic[:,k] * ((T * k / N) ** (1 / alpha))\n",
    "    # Quantile_teoretic[:,k] = np.squeeze(np.ones([len(ps), 1]) * norm.ppf(k / N))\n",
    "\n",
    "print(axs_q)\n",
    "ax_q = axs_q;\n",
    "ax_q.plot(t, Quantile_teoretic.T);\n",
    "ax_q.plot(t, Quantile.T);\n",
    "ax_q.set_xlabel(\"time\")\n",
    "ax_q.set_title(f\"Alpha = {alpha}, Beta = {beta}\");\n"
   ]
  },
  {
   "cell_type": "markdown",
   "metadata": {},
   "source": [
    "## self-similar"
   ]
  },
  {
   "cell_type": "code",
   "execution_count": null,
   "metadata": {},
   "outputs": [],
   "source": [
    "c = 4"
   ]
  },
  {
   "cell_type": "code",
   "execution_count": null,
   "metadata": {},
   "outputs": [],
   "source": [
    "\n",
    "N_scaled = int(c ** (-alpha) * N)\n",
    "\n",
    "X1 = X_Brownian_motion[-1, :int(M//2)]\n",
    "X2 = c * X_Brownian_motion[N_scaled, int(M//2):]\n",
    "\n",
    "p_val = ks_2samp(X1, X2)\n",
    "print(p_val)"
   ]
  },
  {
   "cell_type": "markdown",
   "metadata": {},
   "source": [
    "## characteristic function"
   ]
  },
  {
   "cell_type": "code",
   "execution_count": 5,
   "metadata": {},
   "outputs": [],
   "source": [
    "N_char = 10 ** 2\n",
    "t_char = np.linspace(-3,3, N_char)\n"
   ]
  },
  {
   "cell_type": "code",
   "execution_count": 6,
   "metadata": {},
   "outputs": [
    {
     "data": {
      "text/plain": [
       "[<matplotlib.lines.Line2D at 0x7fea74567910>]"
      ]
     },
     "execution_count": 6,
     "metadata": {},
     "output_type": "execute_result"
    },
    {
     "data": {
      "image/png": "[encoded data removed]",
      "text/plain": [
       "<Figure size 432x288 with 1 Axes>"
      ]
     },
     "metadata": {
      "needs_background": "light"
     },
     "output_type": "display_data"
    }
   ],
   "source": [
    "phi = characteristic_proces_r_i(t_char, X_Brownian_motion)\n",
    "\n",
    "plt.plot(phi[0])\n",
    "plt.plot(phi[1])\n"
   ]
  },
  {
   "cell_type": "markdown",
   "metadata": {},
   "source": [
    "## TAMSD EAMSD (EATAMSD?)"
   ]
  },
  {
   "cell_type": "code",
   "execution_count": 5,
   "metadata": {},
   "outputs": [],
   "source": [
    "X = X_Brownian_motion[:,0]\n",
    "Y_TAMSD = np.zeros(N - 1)\n",
    "\n",
    "for i in range( N - 1):\n",
    "    Y_TAMSD[i] = TAMSD(X, i)"
   ]
  },
  {
   "cell_type": "code",
   "execution_count": 6,
   "metadata": {},
   "outputs": [
    {
     "data": {
      "text/plain": [
       "[<matplotlib.lines.Line2D at 0x7eff81c634c0>]"
      ]
     },
     "execution_count": 6,
     "metadata": {},
     "output_type": "execute_result"
    },
    {
     "data": {
      "image/png": "[encoded data removed]",
      "text/plain": [
       "<Figure size 432x288 with 1 Axes>"
      ]
     },
     "metadata": {
      "needs_background": "light"
     },
     "output_type": "display_data"
    }
   ],
   "source": [
    "plt.plot(Y_TAMSD)"
   ]
  },
  {
   "cell_type": "code",
   "execution_count": 7,
   "metadata": {},
   "outputs": [],
   "source": [
    "Y_EAMSD = np.zeros(N - 1)\n",
    "\n",
    "for i in range( N - 1):\n",
    "    Y_EAMSD[i] = EAMSD(X_Brownian_motion, i)\n"
   ]
  },
  {
   "cell_type": "code",
   "execution_count": 8,
   "metadata": {},
   "outputs": [
    {
     "data": {
      "text/plain": [
       "[<matplotlib.lines.Line2D at 0x7eff7fb57970>]"
      ]
     },
     "execution_count": 8,
     "metadata": {},
     "output_type": "execute_result"
    },
    {
     "data": {
      "image/png": "[encoded data removed]",
      "text/plain": [
       "<Figure size 432x288 with 1 Axes>"
      ]
     },
     "metadata": {
      "needs_background": "light"
     },
     "output_type": "display_data"
    }
   ],
   "source": [
    "plt.plot(Y_EAMSD)"
   ]
  },
  {
   "cell_type": "markdown",
   "metadata": {},
   "source": [
    "## Distribution"
   ]
  },
  {
   "cell_type": "code",
   "execution_count": 20,
   "metadata": {},
   "outputs": [
    {
     "data": {
      "image/png": "[encoded data removed]",
      "text/plain": [
       "<Figure size 432x288 with 1 Axes>"
      ]
     },
     "metadata": {
      "needs_background": "light"
     },
     "output_type": "display_data"
    }
   ],
   "source": [
    "x = CDF2(X_Brownian_motion[100,:])[0]\n",
    "plt.plot(x, np.linspace(0,1, len(x)));\n"
   ]
  },
  {
   "cell_type": "code",
   "execution_count": null,
   "metadata": {},
   "outputs": [],
   "source": []
  }
 ],
 "metadata": {
  "interpreter": {
   "hash": "916dbcbb3f70747c44a77c7bcd40155683ae19c65e1c03b4aa3499c5328201f1"
  },
  "kernelspec": {
   "display_name": "Python 3.8.10 64-bit",
   "language": "python",
   "name": "python3"
  },
  "language_info": {
   "codemirror_mode": {
    "name": "ipython",
    "version": 3
   },
   "file_extension": ".py",
   "mimetype": "text/x-python",
   "name": "python",
   "nbconvert_exporter": "python",
   "pygments_lexer": "ipython3",
   "version": "3.8.10"
  },
  "orig_nbformat": 4
 },
 "nbformat": 4,
 "nbformat_minor": 2
}
