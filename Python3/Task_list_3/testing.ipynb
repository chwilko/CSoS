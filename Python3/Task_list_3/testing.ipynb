{
 "cells": [
  {
   "cell_type": "code",
   "execution_count": 1,
   "metadata": {},
   "outputs": [],
   "source": [
    "import numpy as np\n",
    "import matplotlib.pyplot as plt\n",
    "\n",
    "sys.path.insert(1, os.sep.join([\"..\", \"packages\"]))\n",
    "from fractional_brownian_motion import *"
   ]
  },
  {
   "cell_type": "code",
   "execution_count": 2,
   "metadata": {},
   "outputs": [],
   "source": [
    "M1 = -100\n",
    "M2 = 100\n",
    "\n",
    "H = 0.3\n",
    "alpha = 1.5\n",
    "\n",
    "I = 10\n",
    "tau = (M2 - M1) / I\n",
    "S = M1 + np.arange(0, I) * tau\n",
    "\n",
    "cut_point_1 = np.where(S > 0)[0][0] # changing sign\n",
    "S_negative = S[:cut_point_1 - 1]\n",
    "max_S_neg = np.maximum((-S_negative) ** (H - 1 / alpha), 0)\n",
    "\n",
    "dt = 0.01\n",
    "T = np.arange(0, dt * 999, dt)\n",
    "\n",
    "N_trajectories = 1000\n",
    "\n",
    "def f(S, t, cut_point_1, S_negative, max_S_neg):\n",
    "    cut_point_2 = np.where(S > t)[0][0] # less than t\n",
    "    S_positive = S[cut_point_1 - 1:cut_point_2 - 1]\n",
    "    return np.concatenate(\n",
    "            (np.maximum((t - S_negative) ** (H - 1 / alpha), 0) - max_S_neg,\n",
    "            np.maximum((t - S_positive) ** (H - 1 / alpha), 0))\n",
    "        )\n",
    "\n",
    "M = np.ones((N_trajectories, len(T)))\n",
    "for i in range(N_trajectories):\n",
    "    for j, t in enumerate(T):\n",
    "        F = f(S, t, cut_point_1, S_negative, max_S_neg)\n",
    "        M[i, j] = integral_form_simulation(len(F), F, dt = tau, alpha = 0.5)"
   ]
  },
  {
   "cell_type": "code",
   "execution_count": 3,
   "metadata": {},
   "outputs": [
    {
     "data": {
      "text/plain": [
       "[<matplotlib.lines.Line2D at 0x2b43ae0d9f0>]"
      ]
     },
     "execution_count": 3,
     "metadata": {},
     "output_type": "execute_result"
    },
    {
     "data": {
      "image/png": "[encoded data removed]",
      "text/plain": [
       "<Figure size 432x288 with 1 Axes>"
      ]
     },
     "metadata": {
      "needs_background": "light"
     },
     "output_type": "display_data"
    }
   ],
   "source": [
    "plt.plot(T, M[1, :])"
   ]
  },
  {
   "cell_type": "code",
   "execution_count": 8,
   "metadata": {},
   "outputs": [
    {
     "data": {
      "text/plain": [
       "array([ 2.22962358,  1.91564161, -0.99789995, -1.09695015,  0.43273982,\n",
       "        0.6184473 ,  0.61459722,  0.21481862, -0.51091412, -0.1039131 ])"
      ]
     },
     "execution_count": 8,
     "metadata": {},
     "output_type": "execute_result"
    }
   ],
   "source": [
    "X = np.random.normal(0, 1, 10)\n",
    "X"
   ]
  },
  {
   "cell_type": "code",
   "execution_count": 9,
   "metadata": {},
   "outputs": [
    {
     "data": {
      "text/plain": [
       "array([2.22962358, 1.91564161, 0.        , 0.        , 0.43273982,\n",
       "       0.6184473 , 0.61459722, 0.21481862, 0.        , 0.        ])"
      ]
     },
     "execution_count": 9,
     "metadata": {},
     "output_type": "execute_result"
    }
   ],
   "source": [
    "np.maximum(X, 0)"
   ]
  }
 ],
 "metadata": {
  "interpreter": {
   "hash": "d38922d36489c8af6ee2b2d50f32a85ff90f4f0643b51da8d07090b2c64ad6eb"
  },
  "kernelspec": {
   "display_name": "Python 3.10.1 64-bit",
   "language": "python",
   "name": "python3"
  },
  "language_info": {
   "codemirror_mode": {
    "name": "ipython",
    "version": 3
   },
   "file_extension": ".py",
   "mimetype": "text/x-python",
   "name": "python",
   "nbconvert_exporter": "python",
   "pygments_lexer": "ipython3",
   "version": "3.10.1"
  },
  "orig_nbformat": 4
 },
 "nbformat": 4,
 "nbformat_minor": 2
}
