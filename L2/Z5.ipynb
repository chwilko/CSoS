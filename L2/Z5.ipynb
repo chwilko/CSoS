{
 "cells": [
  {
   "cell_type": "code",
   "execution_count": null,
   "metadata": {},
   "outputs": [],
   "source": [
    "using Plots # mega długo się ładuje \n",
    "using LaTeXStrings\n",
    "using Distributions\n",
    "using SpecialFunctions"
   ]
  },
  {
   "cell_type": "code",
   "execution_count": null,
   "metadata": {},
   "outputs": [],
   "source": [
    "include(\"MBP.jl\")\n",
    "include(\"alphastable.jl\")"
   ]
  },
  {
   "cell_type": "code",
   "execution_count": null,
   "metadata": {},
   "outputs": [],
   "source": [
    "alpha = 1\n",
    "beta = 0\n",
    "gam = 1\n",
    "delta = 1 \n",
    "\n",
    "function c_fun(alpha) \n",
    "    return sin(alpha * pi / 2) * gamma(alpha) / pi;\n",
    "end\n"
   ]
  },
  {
   "cell_type": "code",
   "execution_count": null,
   "metadata": {},
   "outputs": [],
   "source": [
    "MC = 10 ^ 4;\n",
    "X = alphastable(MC, 1, alpha, beta, gam, delta, 1);\n",
    "t = 0:0.5:100;"
   ]
  },
  {
   "cell_type": "code",
   "execution_count": null,
   "metadata": {},
   "outputs": [],
   "source": [
    "\n",
    "tali_X = 1 .- CDF(t, vec(X), MC);\n",
    "\n",
    "# plot(t, tali_X, legend = false, reuse = false);\n",
    "plot(t, tali_X);\n",
    "# plot!(t, gam ^ alpha * c_fun(alpha) * (1 + beta) * (t .^ (-alpha)), legend = false);\n",
    "\n"
   ]
  },
  {
   "cell_type": "code",
   "execution_count": null,
   "metadata": {},
   "outputs": [],
   "source": []
  }
 ],
 "metadata": {
  "kernelspec": {
   "display_name": "Julia 1.4.1",
   "language": "julia",
   "name": "julia-1.4"
  },
  "language_info": {
   "file_extension": ".jl",
   "mimetype": "application/julia",
   "name": "julia",
   "version": "1.4.1"
  },
  "orig_nbformat": 4
 },
 "nbformat": 4,
 "nbformat_minor": 2
}
