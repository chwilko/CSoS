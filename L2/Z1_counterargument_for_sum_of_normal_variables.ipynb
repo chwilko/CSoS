{
 "cells": [
  {
   "cell_type": "code",
   "execution_count": null,
   "metadata": {},
   "outputs": [],
   "source": [
    "using Plots # mega długo się ładuje \n",
    "using LaTeXStrings\n",
    "using Distributions"
   ]
  },
  {
   "cell_type": "code",
   "execution_count": null,
   "metadata": {},
   "outputs": [],
   "source": [
    "include(\"MBP.jl\")"
   ]
  },
  {
   "cell_type": "code",
   "execution_count": null,
   "metadata": {},
   "outputs": [],
   "source": [
    "N = 10 ^ 4;\n",
    "epsilon = Float64.(rand(N) .< 1/2);\n",
    "epsilon[epsilon .== 0] .= -1;\n",
    "X = randn(N);\n",
    "Y = X;\n",
    "Y[abs.(X) .> 1] .= -Y[abs.(X) .> 1];\n",
    "Y = Y .* epsilon;"
   ]
  },
  {
   "cell_type": "markdown",
   "metadata": {},
   "source": [
    "First we check the covariance"
   ]
  },
  {
   "cell_type": "code",
   "execution_count": null,
   "metadata": {},
   "outputs": [],
   "source": [
    "cov(X, Y)"
   ]
  },
  {
   "cell_type": "markdown",
   "metadata": {},
   "source": [
    "Then the PDFs and CDFs of X and Y separately"
   ]
  },
  {
   "cell_type": "code",
   "execution_count": null,
   "metadata": {},
   "outputs": [],
   "source": [
    "my_dist = Normal(0,1);\n",
    "t = range(-3.5, 3.5, length=N);\n",
    "histogram(X, labels = \"X\", normalize = true, reuse = false)\n",
    "plot!(xlabel = L\"x\",\n",
    "    ylabel = L\"f(x)\", title  = \"PDF and histogram comparison fo X variable\",\n",
    "    labels = \"theoretical\",\n",
    "    t -> pdf(my_dist, t), t[1], t[end], lw = 3, linecolor = colorant\"magenta\")"
   ]
  },
  {
   "cell_type": "code",
   "execution_count": null,
   "metadata": {},
   "outputs": [],
   "source": [
    "plot(t, CDF(t, X, N), labels = \"X\", lw = 3, reuse = false)\n",
    "\n",
    "plot!(xlabel = L\"x\",\n",
    "    ylabel = L\"\\Phi(x)\", title  = \"CDF and eCDF comparison for X variable\",\n",
    "    labels = \"theoretical\",\n",
    "    t -> cdf(my_dist, t), t[1], t[end], linecolor = colorant\"magenta\")"
   ]
  },
  {
   "cell_type": "code",
   "execution_count": null,
   "metadata": {},
   "outputs": [],
   "source": [
    "histogram(Y, labels = \"Y\", normalize = true, reuse = false)\n",
    "plot!(xlabel = L\"x\",\n",
    "    ylabel = L\"f(x)\", title  = \"PDF and histogram comparison for Y variable\",\n",
    "    labels = \"theoretical\",\n",
    "    t -> pdf(my_dist, t), t[1], t[end], lw = 3, linecolor = colorant\"magenta\")"
   ]
  },
  {
   "cell_type": "code",
   "execution_count": null,
   "metadata": {},
   "outputs": [],
   "source": [
    "plot(t, CDF(t, Y, N), labels = \"Y\", lw = 3, reuse = false)\n",
    "\n",
    "plot!(xlabel = L\"x\",\n",
    "    ylabel = L\"\\Phi(x)\", title  = \"CDF and eCDF comparison for Y variable\",\n",
    "    labels = \"theoretical\",\n",
    "    t -> cdf(my_dist, t), t[1], t[end], linecolor = colorant\"magenta\")"
   ]
  },
  {
   "cell_type": "markdown",
   "metadata": {},
   "source": [
    "Eventually we analyse the PDF and CDF of X + Y"
   ]
  },
  {
   "cell_type": "code",
   "execution_count": null,
   "metadata": {},
   "outputs": [],
   "source": [
    "my_dist_of_sum = Normal(0,  2);\n",
    "t_for_sum = range(-8, 8, length=N);\n",
    "histogram(Y .+ X, labels = \"X + Y\", normalize = true, reuse = false)\n",
    "plot!(xlabel = L\"x\",\n",
    "    ylabel = L\"f(x)\", title  = \"PDF and histogram comparison for X + Y\",\n",
    "    labels = \"theoretical\",\n",
    "    t_for_sum -> pdf(my_dist_of_sum, t_for_sum), t_for_sum[1], t_for_sum[end], lw = 3, linecolor = colorant\"magenta\")"
   ]
  },
  {
   "cell_type": "code",
   "execution_count": null,
   "metadata": {},
   "outputs": [],
   "source": [
    "plot(t, CDF(t, X .+ Y, N), labels = \"X + Y\", lw = 3, reuse = false)\n",
    "\n",
    "plot!(xlabel = L\"x\",\n",
    "    ylabel = L\"\\Phi(x)\", title  = \"CDF and eCDF comparison for X + Y\",\n",
    "    labels = \"theoretical\",\n",
    "    t -> cdf(my_dist, t), t[1], t[end], linecolor = colorant\"magenta\")"
   ]
  }
 ],
 "metadata": {
  "interpreter": {
   "hash": "c7623f5f23aac6564dd5e5ffdd57c8ddc1d9cac0358546fad8593c019b33903e"
  },
  "kernelspec": {
   "display_name": "Julia 1.4.1",
   "language": "julia",
   "name": "julia-1.4"
  },
  "language_info": {
   "file_extension": ".jl",
   "mimetype": "application/julia",
   "name": "julia",
   "version": "1.4.1"
  },
  "orig_nbformat": 4
 },
 "nbformat": 4,
 "nbformat_minor": 2
}
