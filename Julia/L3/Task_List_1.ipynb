{
 "cells": [
  {
   "cell_type": "code",
   "execution_count": null,
   "metadata": {},
   "outputs": [],
   "source": [
    "using Plots # mega długo się ładuje\n",
    "using LaTeXStrings\n",
    "using Distributions"
   ]
  },
  {
   "cell_type": "markdown",
   "metadata": {},
   "source": [
    "# Task 1"
   ]
  },
  {
   "cell_type": "code",
   "execution_count": null,
   "metadata": {},
   "outputs": [],
   "source": [
    "include(\"alphastable.jl\")"
   ]
  },
  {
   "cell_type": "code",
   "execution_count": null,
   "metadata": {},
   "outputs": [],
   "source": [
    "S0 = alphastable(10 ^ 5, 1, 1.8, 0.5, 1, 0, 0);\n",
    "S1 = alphastable(10 ^ 5, 1, 1.8, 0.5, 1, 0, 1);\n",
    "histogram(S0, xlim = [-5,5], ylim = [0,0.35], legend = false, normalize = true, reuse = false)\n",
    "histogram!(S1, xlim = [-5,5], ylim = [0,0.35], legend = false, normalize = true, reuse = false, alpha = 0.5)"
   ]
  },
  {
   "cell_type": "markdown",
   "metadata": {},
   "source": [
    "# Task 2\n"
   ]
  },
  {
   "cell_type": "markdown",
   "metadata": {},
   "source": [
    "## Writing the empirical cdf function\n",
    "\n",
    "\n"
   ]
  },
  {
   "cell_type": "code",
   "execution_count": null,
   "metadata": {},
   "outputs": [],
   "source": [
    "function ECDF(X)\n",
    "    n = length(X);\n",
    "    x_values = sort(vec(X));\n",
    "    y_values = (1:n) ./ n;\n",
    "    return [x_values, y_values];\n",
    "end"
   ]
  },
  {
   "cell_type": "markdown",
   "metadata": {},
   "source": [
    "## Testing the function on the exponential and normal distributions"
   ]
  },
  {
   "cell_type": "code",
   "execution_count": null,
   "metadata": {},
   "outputs": [],
   "source": [
    "M = 10 ^ 6;\n",
    "lambda = 1;"
   ]
  },
  {
   "cell_type": "code",
   "execution_count": null,
   "metadata": {},
   "outputs": [],
   "source": [
    "X = vec(d_exp(1, M, lambda));\n",
    "x_values, y_values = ECDF(X);"
   ]
  },
  {
   "cell_type": "code",
   "execution_count": null,
   "metadata": {},
   "outputs": [],
   "source": [
    "plot(x_values, y_values, reuse = false, labels = L\"empirical\")\n",
    "plot!(x_values, 1 .- exp.(-lambda * x_values), labels = L\"theoretical\", title = L\"CDF\", xlabel = L\"x\", ylabel = L\"\\Phi(x)\")"
   ]
  },
  {
   "cell_type": "code",
   "execution_count": null,
   "metadata": {},
   "outputs": [],
   "source": [
    "my_dist = Normal(0,1);\n",
    "t = range(-3.5, 3.5, length = M);\n",
    "X = randn(M);\n",
    "x_values, y_values = ECDF(X);\n",
    "plot(x_values, y_values, labels = L\"empirical\")\n",
    "plot!(xlabel = L\"x\",\n",
    "    ylabel = L\"\\Phi(x)\", title  = L\"CDF\",\n",
    "    labels = L\"theoretical\",\n",
    "    t -> cdf(my_dist, t), t[1], t[end], linecolor = colorant\"magenta\")"
   ]
  },
  {
   "cell_type": "markdown",
   "metadata": {},
   "source": [
    "## Tails functionality"
   ]
  },
  {
   "cell_type": "code",
   "execution_count": null,
   "metadata": {},
   "outputs": [],
   "source": [
    "tail_X = 1 .- y_values;\n",
    "threshold = 3;\n",
    "t = threshold:0.01:maximum(x_values[x_values .> threshold]);\n",
    "plot(x_values[x_values .> threshold], log.(tail_X[x_values .> threshold]), legend = false, reuse = false)\n",
    "plot!(plot!(xlabel = L\"x\",\n",
    "    ylabel = L\"\\Phi(x)\", title  = L\"CDF\",\n",
    "    labels = L\"theoretical\",\n",
    "    t -> log.(1 - cdf(my_dist, t)), threshold, maximum(x_values[x_values .> threshold]),\n",
    "    linecolor = colorant\"magenta\"))"
   ]
  },
  {
   "cell_type": "markdown",
   "metadata": {},
   "source": [
    "## CDF comparison for $\\alpha$-stable"
   ]
  },
  {
   "cell_type": "code",
   "execution_count": null,
   "metadata": {},
   "outputs": [],
   "source": [
    "alp = 1;\n",
    "beta = 0;\n",
    "gam = 1;\n",
    "delta = 1;"
   ]
  },
  {
   "cell_type": "code",
   "execution_count": null,
   "metadata": {},
   "outputs": [],
   "source": [
    "MC = 10 ^ 7;\n",
    "X = alphastable(MC, 1, alp, beta, gam, delta, 1);\n",
    "t = float.(0:1:100);\n",
    "lambda = 1/2;\n",
    "c = 1 / 2;"
   ]
  },
  {
   "cell_type": "code",
   "execution_count": null,
   "metadata": {},
   "outputs": [],
   "source": [
    "tali_X = CDF(-t, vec(X), MC);\n",
    "\n",
    "plot(-t, tali_X, reuse = false, labels = \"empirical tail\", yaxis=:log)\n",
    "plot!(-t, exp.(- lambda .* t), labels = L\"\\exp(-\\lambda t)\", yaxis=:log)\n",
    "plot!(-t, c .* t .^ (-alp), labels = L\"c t^{-\\alpha}\", yaxis=:log, legend=:bottomright)"
   ]
  },
  {
   "cell_type": "markdown",
   "metadata": {},
   "source": [
    "## Tails comparison for $\\alpha$-stable"
   ]
  },
  {
   "cell_type": "code",
   "execution_count": null,
   "metadata": {},
   "outputs": [],
   "source": [
    "alp = 1;\n",
    "beta = 0;\n",
    "gam = 1;\n",
    "delta = 1;"
   ]
  },
  {
   "cell_type": "code",
   "execution_count": null,
   "metadata": {},
   "outputs": [],
   "source": [
    "MC = 10 ^ 7;\n",
    "X = alphastable(MC, 1, alp, beta, gam, delta, 1);\n",
    "t = float.(0:1:100);\n",
    "lambda = 1/2;\n",
    "c = 1 / 2;"
   ]
  },
  {
   "cell_type": "code",
   "execution_count": null,
   "metadata": {},
   "outputs": [],
   "source": [
    "tali_X = 1 .- CDF(t, vec(X), MC);\n",
    "\n",
    "plot(t, tali_X, reuse = false, labels = \"empirical tail\", yaxis=:log)\n",
    "plot!(t, exp.(- lambda .* t), labels = L\"\\exp(-\\lambda t)\", yaxis=:log)\n",
    "plot!(t, c .* t .^ (-alp), labels = L\"c t^{-\\alpha}\", yaxis=:log, legend=:bottomleft)"
   ]
  },
  {
   "cell_type": "markdown",
   "metadata": {},
   "source": [
    "# Task 3"
   ]
  },
  {
   "cell_type": "code",
   "execution_count": null,
   "metadata": {},
   "outputs": [],
   "source": [
    "function characterist_r_i(t, X, MC)\n",
    "    len = length(t);\n",
    "    X = X * ones(1,length(t));\n",
    "    t = t' .* ones(MC, 1);\n",
    "    Re = (sum(cos.(X .* t), dims = 1) ./ (MC * ones(1, len)))';\n",
    "    Im = (sum(sin.(X .* t), dims = 1) ./ (MC * ones(1, len)))';\n",
    "    return [Re Im];\n",
    "end\n",
    "\n",
    "function d_exp(N, M, lambda)\n",
    "    return -1 / lambda * log.(rand(N, M));\n",
    "end"
   ]
  },
  {
   "cell_type": "code",
   "execution_count": null,
   "metadata": {},
   "outputs": [],
   "source": [
    "N = 10 ^ 5;\n",
    "lambda3 = 2;\n",
    "X = d_exp(N, 1, lambda3);\n",
    "t = 0:0.05:10;\n",
    "\n",
    "\n",
    "f_re3(t) = lambda3 ^ 2 ./ (lambda3 ^ 2 .+ t .^ 2);\n",
    "f_im3(t) = lambda3 * t ./ (lambda3 ^ 2 .+ t .^ 2);\n",
    "FunChar = characterist_r_i(t, X, N);"
   ]
  },
  {
   "cell_type": "code",
   "execution_count": null,
   "metadata": {},
   "outputs": [],
   "source": [
    "\n",
    "plot(t, FunChar[:,1], linewidth = 5, labels = L\"\\textrm{Numerical }\\Re(\\psi_X(t))\", reuse = false)\n",
    "plot!(t, f_re3(t), linewidth = 3, labels = L\"\\textrm{Teoretical }\\Re(\\psi_X(t))\")\n"
   ]
  },
  {
   "cell_type": "code",
   "execution_count": null,
   "metadata": {},
   "outputs": [],
   "source": [
    "\n",
    "plot(t, FunChar[:,2], linewidth = 5, labels = L\"\\textrm{Numerical }\\Im(\\psi_X(t))\", reuse = false)\n",
    "plot!(t, f_im3(t), linewidth = 3, labels = L\"\\textrm{Teoretical }\\Im(\\psi_X(t))\")"
   ]
  },
  {
   "cell_type": "markdown",
   "metadata": {},
   "source": [
    "# Task 4"
   ]
  },
  {
   "cell_type": "code",
   "execution_count": null,
   "metadata": {},
   "outputs": [],
   "source": [
    "function running_moment(sample, tau)\n",
    "    repeat(sample, outer = [1, length(X)])\n",
    "    M = [ x<=y ? 1 : (x == y ? 0 : 0) for x in 1:length(sample), y in 1:length(sample)]\n",
    "    Y = (M .* sample) .^ tau\n",
    "    return sum(Y, dims = 1) ./ (1:length(sample))'\n",
    "end"
   ]
  },
  {
   "cell_type": "code",
   "execution_count": null,
   "metadata": {},
   "outputs": [],
   "source": [
    "alp = 1.8;\n",
    "beta = 0;\n",
    "gam = 1;\n",
    "delta = 1;\n",
    "MC = 10 ^ 4;\n",
    "X = alphastable(MC, 1, alp, beta, gam, delta, 1);"
   ]
  },
  {
   "cell_type": "code",
   "execution_count": null,
   "metadata": {},
   "outputs": [],
   "source": [
    "ps = [];\n",
    "for tau in range(1, 4)\n",
    "    push!(ps, plot(vec(running_moment(X, tau)), reuse = false, title = string(L\"\\tau\", \" = \", \"$tau\")));\n",
    "end"
   ]
  },
  {
   "cell_type": "code",
   "execution_count": null,
   "metadata": {},
   "outputs": [],
   "source": [
    "plot(ps...) # splatting"
   ]
  },
  {
   "cell_type": "code",
   "execution_count": null,
   "metadata": {},
   "outputs": [],
   "source": []
  },
  {
   "cell_type": "markdown",
   "metadata": {},
   "source": [
    "# Task 5"
   ]
  },
  {
   "cell_type": "code",
   "execution_count": null,
   "metadata": {},
   "outputs": [],
   "source": [
    "N = 10 ^ 5;\n",
    "lambda5 = 2;\n",
    "X = d_exp(N, 1, lambda5);\n",
    "t = 0:0.01:2.5;\n",
    "\n",
    "\n",
    "f_pdf6(t) = lambda5 .* exp.(- lambda5 .* t);"
   ]
  },
  {
   "cell_type": "code",
   "execution_count": null,
   "metadata": {},
   "outputs": [],
   "source": [
    "function CDF(t, X, MC)\n",
    "    len = length(t);\n",
    "    X = X * ones(1, length(t));\n",
    "    return (sum(X .< t' .* ones(MC,1), dims = 1) ./ (MC * ones(1,len)))';\n",
    "end\n",
    "\n",
    "function PDF(t, X, MC)\n",
    "    dt = (t[2] - t[1])\n",
    "    t = t .- dt / 2;\n",
    "    p = CDF(t[1:end-1], X, MC);\n",
    "    q = CDF(t[2:end], X, MC);\n",
    "    return (.- p .+ q) ./ dt;\n",
    "end"
   ]
  },
  {
   "cell_type": "code",
   "execution_count": null,
   "metadata": {},
   "outputs": [],
   "source": [
    "\n",
    "plot(t, f_pdf6(t), labels = \"teoretical pdf Exp(2)\", linewidth = 5, reuse = false)\n",
    "plot!(t[1:end-1], PDF(t, X, N), labels = \"numerical pdf Exp(2)\", linewidth = 2)\n"
   ]
  },
  {
   "cell_type": "code",
   "execution_count": null,
   "metadata": {},
   "outputs": [],
   "source": []
  }
 ],
 "metadata": {
  "kernelspec": {
   "display_name": "Julia 1.4.1",
   "language": "julia",
   "name": "julia-1.4"
  },
  "language_info": {
   "file_extension": ".jl",
   "mimetype": "application/julia",
   "name": "julia",
   "version": "1.4.1"
  },
  "orig_nbformat": 4
 },
 "nbformat": 4,
 "nbformat_minor": 2
}
