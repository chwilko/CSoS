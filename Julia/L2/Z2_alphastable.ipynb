{
 "cells": [
  {
   "cell_type": "code",
   "execution_count": null,
   "metadata": {},
   "outputs": [],
   "source": [
    "using Plots # mega długo się ładuje \n",
    "using LaTeXStrings\n",
    "using Distributions"
   ]
  },
  {
   "cell_type": "code",
   "execution_count": null,
   "metadata": {},
   "outputs": [],
   "source": [
    "include(\"MBP.jl\")\n",
    "include(\"alphastable.jl\")"
   ]
  },
  {
   "cell_type": "code",
   "execution_count": null,
   "metadata": {},
   "outputs": [],
   "source": [
    "S0 = alphastable(10 ^ 5, 1, 1.8, 1, 1, 0, 0);\n",
    "S1 = alphastable(10 ^ 5, 1, 1.8, 1, 1, 0, 1);\n",
    "histogram(S0, xlim = [-5,5], ylim = [0,0.35], legend = false, normalize = true, reuse = false)\n",
    "histogram(S1, xlim = [-5,5], ylim = [0,0.35], legend = false, normalize = true, reuse = false)"
   ]
  },
  {
   "cell_type": "code",
   "execution_count": null,
   "metadata": {},
   "outputs": [],
   "source": [
    "N = 10 ^ 5;\n",
    "global S0;\n",
    "S0 = zeros(N, 16);\n",
    "global S1;\n",
    "S1 = zeros(N, 16);"
   ]
  },
  {
   "cell_type": "code",
   "execution_count": null,
   "metadata": {},
   "outputs": [],
   "source": [
    "alpha_ = [1 2]\n",
    "beta_ = [0 1 / 2]\n",
    "gamma_ = [1 2]\n",
    "delta_ = [0 1]\n",
    "\n",
    "for a in [0;1]\n",
    "    alpha = alpha_[a + 1];\n",
    "    for b in [0;1]\n",
    "        beta = beta_[b + 1];\n",
    "        for c in [0;1]\n",
    "            gamma = gamma_[c + 1];\n",
    "            for d in [0;1]\n",
    "                delta = delta_[d + 1]\n",
    "                C = a * 2 ^ 3 + b * 2 ^ 2 + c * 2 + d + 1;\n",
    "                S0[:, C] = alphastable(N, 1, alpha, beta, gamma, delta, 0);\n",
    "                S1[:, C] = alphastable(N, 1, alpha, beta, gamma, delta, 1);\n",
    "            end\n",
    "        end\n",
    "    end\n",
    "end\n"
   ]
  },
  {
   "cell_type": "code",
   "execution_count": null,
   "metadata": {},
   "outputs": [],
   "source": [
    "histogram(S0, xlim = [-10,10], ylim = [0,0.35], alpha = 0.5, legend = false, normalize = true, reuse = false)"
   ]
  },
  {
   "cell_type": "code",
   "execution_count": null,
   "metadata": {},
   "outputs": [],
   "source": [
    "\n",
    "histogram(S1, xlim = [-10,10], ylim = [0,0.35], alpha = 0.5, legend = false, normalize = true, reuse = false)"
   ]
  }
 ],
 "metadata": {
  "kernelspec": {
   "display_name": "Julia 1.4.1",
   "language": "julia",
   "name": "julia-1.4"
  },
  "language_info": {
   "file_extension": ".jl",
   "mimetype": "application/julia",
   "name": "julia",
   "version": "1.4.1"
  },
  "orig_nbformat": 4
 },
 "nbformat": 4,
 "nbformat_minor": 2
}
